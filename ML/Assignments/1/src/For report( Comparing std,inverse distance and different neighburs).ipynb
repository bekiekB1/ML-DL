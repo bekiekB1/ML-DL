{
 "cells": [
  {
   "cell_type": "code",
   "execution_count": 11,
   "metadata": {},
   "outputs": [],
   "source": [
    "import pandas as pd\n",
    "import numpy as np\n",
    "import time\n",
    "import test_PartA as pa\n",
    "import matplotlib.pyplot as plt"
   ]
  },
  {
   "cell_type": "code",
   "execution_count": 12,
   "metadata": {},
   "outputs": [],
   "source": [
    "df = pd.read_csv('Dataset/winequality-white.csv',sep = ';')"
   ]
  },
  {
   "cell_type": "code",
   "execution_count": 13,
   "metadata": {},
   "outputs": [],
   "source": [
    "# “good” (quality > 5) & “bad” (quality <= 5)\n",
    "df['quality'] = (df['quality'] > 5).astype(int)"
   ]
  },
  {
   "cell_type": "code",
   "execution_count": 14,
   "metadata": {},
   "outputs": [],
   "source": [
    "# Rename quality to y\n",
    "df = df.rename(columns={'quality':'y'})"
   ]
  },
  {
   "cell_type": "code",
   "execution_count": 15,
   "metadata": {},
   "outputs": [],
   "source": [
    "df = df.sample(frac=1) "
   ]
  },
  {
   "cell_type": "code",
   "execution_count": 16,
   "metadata": {},
   "outputs": [],
   "source": [
    "y = df['y'] # Target vector\n",
    "X =  df.drop(columns=['y'])#Design Matrix\n"
   ]
  },
  {
   "cell_type": "code",
   "execution_count": 17,
   "metadata": {},
   "outputs": [],
   "source": [
    "best_features_accuracy_f1 = ['volatile acidity', 'citric acid', 'residual sugar', 'pH', 'sulphates',\n",
    "       'alcohol']\n",
    "best_features_accuracy = ['volatile acidity', 'density', 'pH', 'sulphates', 'alcohol']\n",
    "best_df = df[best_features_accuracy]"
   ]
  },
  {
   "cell_type": "code",
   "execution_count": 18,
   "metadata": {},
   "outputs": [],
   "source": [
    "y = df['y']\n",
    "X = best_df\n",
    "y = np.array(y)\n",
    "#y = np.expand_dims(y,axis=1)  ######All performance function uses (n,) instead of (n,1)\n",
    "X = np.array(X)"
   ]
  },
  {
   "cell_type": "code",
   "execution_count": 19,
   "metadata": {},
   "outputs": [],
   "source": [
    "def partition(X,y,t):\n",
    "    train_size = int((1-t) * X.shape[0])   \n",
    "    return X[:train_size],X[train_size:],y[:train_size],y[train_size:]"
   ]
  },
  {
   "cell_type": "code",
   "execution_count": 20,
   "metadata": {},
   "outputs": [],
   "source": [
    "X_train, X_test, y_train, y_test = partition(X,y,t=0.2)"
   ]
  },
  {
   "cell_type": "code",
   "execution_count": 21,
   "metadata": {},
   "outputs": [
    {
     "name": "stdout",
     "output_type": "stream",
     "text": [
      "Performance Measure: Accuracy\n"
     ]
    },
    {
     "data": {
      "text/plain": [
       "0.7479591836734694"
      ]
     },
     "execution_count": 21,
     "metadata": {},
     "output_type": "execute_result"
    }
   ],
   "source": [
    "# k = 5 , p = 2 , wigthts = uniform\n",
    "knn = pa.knnClassifier()\n",
    "knn.fit(X_train,y_train,distance = 'Euclidean')\n",
    "predB = knn.predict(X_test)\n",
    "\n",
    "print('Performance Measure: Accuracy')\n",
    "ac2 = pa.accuracy(predB,y_test)\n",
    "ac2"
   ]
  },
  {
   "cell_type": "code",
   "execution_count": 22,
   "metadata": {},
   "outputs": [
    {
     "name": "stdout",
     "output_type": "stream",
     "text": [
      "Performance Measure: F1 Score\n"
     ]
    },
    {
     "data": {
      "text/plain": [
       "0.8166295471417966"
      ]
     },
     "execution_count": 22,
     "metadata": {},
     "output_type": "execute_result"
    }
   ],
   "source": [
    "\n",
    "print('Performance Measure: F1 Score')\n",
    "ac1 = pa.compute_F1_score(predB,y_test)\n",
    "ac1"
   ]
  },
  {
   "cell_type": "code",
   "execution_count": 23,
   "metadata": {},
   "outputs": [
    {
     "name": "stdout",
     "output_type": "stream",
     "text": [
      "Performance Measure: Accuracy\n"
     ]
    },
    {
     "data": {
      "text/plain": [
       "0.7591836734693878"
      ]
     },
     "execution_count": 23,
     "metadata": {},
     "output_type": "execute_result"
    }
   ],
   "source": [
    "knn = pa.knnClassifier()\n",
    "knn.fit(X_train,y_train,distance = 'Euclidean',n_neighbours = 11)\n",
    "predB = knn.predict(X_test)\n",
    "\n",
    "\n",
    "print('Performance Measure: Accuracy')\n",
    "ac2 = pa.accuracy(predB,y_test)\n",
    "ac2"
   ]
  },
  {
   "cell_type": "code",
   "execution_count": 24,
   "metadata": {},
   "outputs": [
    {
     "name": "stdout",
     "output_type": "stream",
     "text": [
      "Performance Measure: F1 Score\n"
     ]
    },
    {
     "data": {
      "text/plain": [
       "0.8304597701149425"
      ]
     },
     "execution_count": 24,
     "metadata": {},
     "output_type": "execute_result"
    }
   ],
   "source": [
    "\n",
    "print('Performance Measure: F1 Score')\n",
    "ac1 = pa.compute_F1_score(predB,y_test)\n",
    "ac1"
   ]
  },
  {
   "cell_type": "code",
   "execution_count": 25,
   "metadata": {},
   "outputs": [],
   "source": [
    "pred_test = knn.predict(X_test)\n",
    "test_F1 = pa.compute_F1_score(pred_test,y_test)\n",
    "test_precision = pa.compute_precision(pred_test,y_test)\n",
    "test_recall = pa.compute_recall(pred_test,y_test)\n",
    "test_confusion = pa.compute_confusion_matrix(pred_test,y_test)\n",
    "test_accuracy = pa.accuracy(pred_test,y_test)\n",
    "test_generr = pa.gen_error(pred_test,y_test)"
   ]
  },
  {
   "cell_type": "code",
   "execution_count": 26,
   "metadata": {},
   "outputs": [
    {
     "name": "stdout",
     "output_type": "stream",
     "text": [
      "Testing on Test DATA\n",
      "Precision : 0.857566765578635\n",
      "Recall : 0.8050139275766016\n",
      "F1 Score : 0.8304597701149425\n",
      "\n",
      "\n",
      "Confusion Matrix :\n",
      "\n",
      "col_0    0    1\n",
      "row_0          \n",
      "0      166   96\n",
      "1      140  578\n",
      "\n",
      "\n",
      "Accuracy : 0.7591836734693878\n",
      "Gen Error : 0.24081632653061225\n"
     ]
    }
   ],
   "source": [
    "print('Testing on Test DATA')\n",
    "print('Precision :',test_precision)\n",
    "print('Recall :',test_recall)\n",
    "print('F1 Score :',test_F1)\n",
    "print('\\n\\nConfusion Matrix :\\n')\n",
    "print(test_confusion)\n",
    "print('\\n\\nAccuracy :',test_accuracy)\n",
    "print('Gen Error :',test_generr)"
   ]
  },
  {
   "cell_type": "code",
   "execution_count": 174,
   "metadata": {},
   "outputs": [],
   "source": [
    "X_train = (X_train - np.mean(X_train))/np.std(X_train)\n",
    "X_test = (X_test - np.mean(X_test))/np.std(X_test)"
   ]
  },
  {
   "cell_type": "code",
   "execution_count": 175,
   "metadata": {},
   "outputs": [
    {
     "name": "stdout",
     "output_type": "stream",
     "text": [
      "Performance Measure: Accuracy\n"
     ]
    },
    {
     "data": {
      "text/plain": [
       "0.753061224489796"
      ]
     },
     "execution_count": 175,
     "metadata": {},
     "output_type": "execute_result"
    }
   ],
   "source": [
    "knn = pa.knnClassifier()\n",
    "knn.fit(X_train,y_train,distance = 'Euclidean')\n",
    "predB = knn.predict(X_test)\n",
    "\n",
    "print('Performance Measure: Accuracy')\n",
    "ac2 = pa.accuracy(predB,y_test)\n",
    "ac2"
   ]
  },
  {
   "cell_type": "code",
   "execution_count": 176,
   "metadata": {},
   "outputs": [
    {
     "name": "stdout",
     "output_type": "stream",
     "text": [
      "Performance Measure: F1 Score\n"
     ]
    },
    {
     "data": {
      "text/plain": [
       "0.8180451127819549"
      ]
     },
     "execution_count": 176,
     "metadata": {},
     "output_type": "execute_result"
    }
   ],
   "source": [
    "\n",
    "print('Performance Measure: F1 Score')\n",
    "ac1 = pa.compute_F1_score(predB,y_test)\n",
    "ac1"
   ]
  },
  {
   "cell_type": "code",
   "execution_count": 27,
   "metadata": {},
   "outputs": [
    {
     "name": "stdout",
     "output_type": "stream",
     "text": [
      "Performance Measure: Accuracy\n"
     ]
    },
    {
     "data": {
      "text/plain": [
       "0.8295918367346938"
      ]
     },
     "execution_count": 27,
     "metadata": {},
     "output_type": "execute_result"
    }
   ],
   "source": [
    "knn = pa.knnClassifier()\n",
    "knn.fit(X_train,y_train,distance = 'Euclidean',n_neighbours = 11,weights = 'distance')\n",
    "predB = knn.predict(X_test)\n",
    "\n",
    "\n",
    "print('Performance Measure: Accuracy')\n",
    "ac2 = pa.accuracy(predB,y_test)\n",
    "ac2"
   ]
  },
  {
   "cell_type": "code",
   "execution_count": 28,
   "metadata": {},
   "outputs": [
    {
     "name": "stdout",
     "output_type": "stream",
     "text": [
      "Performance Measure: F1 Score\n"
     ]
    },
    {
     "data": {
      "text/plain": [
       "0.8778346744696415"
      ]
     },
     "execution_count": 28,
     "metadata": {},
     "output_type": "execute_result"
    }
   ],
   "source": [
    "print('Performance Measure: F1 Score')\n",
    "ac1 = pa.compute_F1_score(predB,y_test)\n",
    "ac1"
   ]
  },
  {
   "cell_type": "code",
   "execution_count": 35,
   "metadata": {},
   "outputs": [
    {
     "data": {
      "text/plain": [
       "61"
      ]
     },
     "execution_count": 35,
     "metadata": {},
     "output_type": "execute_result"
    }
   ],
   "source": [
    "len(list(range(61)))"
   ]
  },
  {
   "cell_type": "code",
   "execution_count": 38,
   "metadata": {},
   "outputs": [],
   "source": [
    "validation_accuracy = np.empty((59,2,2))\n",
    "neighbors = list(range(60))[1:]\n",
    "distance = ['Euclidean', 'Manhattan']\n",
    "weights = ['uniform','distance']\n",
    "maxScore = 0\n",
    "for i,k in enumerate(neighbors):\n",
    "    for j,dst in enumerate(distance):\n",
    "        for x,wgt in enumerate(weights):\n",
    "            knn = pa.knnClassifier()\n",
    "            model_args = {'n_neighbours' : k,'weights':wgt,'distance' : dst}\n",
    "            result = pa.sFold(5,X_train,y_train,knn,pa.compute_F1_score,**model_args)\n",
    "            validation_accuracy[i,j,x] = result['Average error']\n",
    "            if validation_accuracy[i,j,x] > maxScore:\n",
    "                maxScore = validation_accuracy[i,j,x]\n",
    "                index = [i,j,x]"
   ]
  },
  {
   "cell_type": "code",
   "execution_count": 42,
   "metadata": {},
   "outputs": [
    {
     "data": {
      "image/png": "[encoded data removed]",
      "text/plain": [
       "<Figure size 720x432 with 1 Axes>"
      ]
     },
     "metadata": {},
     "output_type": "display_data"
    },
    {
     "name": "stdout",
     "output_type": "stream",
     "text": [
      "Optimal K:  15\n"
     ]
    }
   ],
   "source": [
    "plt.style.use('ggplot')\n",
    "fig = plt.figure(figsize=(10, 6))\n",
    "plt.title('Varying K: Number of Nearest Neighbors')\n",
    "plt.plot(neighbors, validation_accuracy[:,0,0], label='Validation Accuracy')\n",
    "plt.plot(neighbors, train_accuracy, label='Training accuracy')\n",
    "plt.legend()\n",
    "plt.xlabel('K (Number of Nearest Neighbors)')\n",
    "plt.ylabel('Accuracy')\n",
    "plt.show()\n",
    "\n",
    "\n",
    "\n",
    "# Find the value of \"K\" that gives max validation accuracy\n",
    "j = 0\n",
    "max_val_accuracy = validation_accuracy[j,0,0]\n",
    "max_k = 1\n",
    "\n",
    "for i in neighbors:\n",
    "    if(validation_accuracy[j,0,0] > max_val_accuracy):\n",
    "        max_val_accuracy = validation_accuracy[j,0,0]\n",
    "        max_k = i\n",
    "    j +=1\n",
    "    \n",
    "print(\"Optimal K: \", max_k)"
   ]
  },
  {
   "cell_type": "code",
   "execution_count": null,
   "metadata": {},
   "outputs": [],
   "source": []
  }
 ],
 "metadata": {
  "kernelspec": {
   "display_name": "Python 3",
   "language": "python",
   "name": "python3"
  },
  "language_info": {
   "codemirror_mode": {
    "name": "ipython",
    "version": 3
   },
   "file_extension": ".py",
   "mimetype": "text/x-python",
   "name": "python",
   "nbconvert_exporter": "python",
   "pygments_lexer": "ipython3",
   "version": "3.7.6"
  }
 },
 "nbformat": 4,
 "nbformat_minor": 4
}
