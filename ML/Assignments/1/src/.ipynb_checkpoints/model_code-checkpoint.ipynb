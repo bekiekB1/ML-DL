{
 "cells": [
  {
   "cell_type": "code",
   "execution_count": 12,
   "metadata": {},
   "outputs": [],
   "source": [
    "import numpy as np\n",
    "import pandas as pd\n"
   ]
  },
  {
   "cell_type": "code",
   "execution_count": 4,
   "metadata": {},
   "outputs": [],
   "source": [
    "#1\n",
    "def l2_norm(x,y):\n",
    "    x,y = np.array(x),np.array(y)\n",
    "    return np.linalg.norm(x-y,2)\n",
    "\n",
    "#2\n",
    "def l1_norm(x,y):\n",
    "    x,y = np.array(x),np.array(y)\n",
    "    return np.linalg.norm(x-y,1)"
   ]
  },
  {
   "cell_type": "code",
   "execution_count": 11,
   "metadata": {},
   "outputs": [],
   "source": [
    "def accuracy(x,y):\n",
    "    x,y = np.array(x),np.array(y)\n",
    "    pred = (x == y).astype(np.int)\n",
    "    return pred.mean()*100"
   ]
  },
  {
   "cell_type": "code",
   "execution_count": 10,
   "metadata": {},
   "outputs": [
    {
     "data": {
      "text/plain": [
       "75.0"
      ]
     },
     "execution_count": 10,
     "metadata": {},
     "output_type": "execute_result"
    }
   ],
   "source": [
    "def gen_error(x,y):\n",
    "    return 1 - accuracy(x,y)"
   ]
  },
  {
   "cell_type": "code",
   "execution_count": 13,
   "metadata": {},
   "outputs": [],
   "source": [
    "def compute_precision(actual, predicted):\n",
    "    \n",
    "    pd_actual = pd.Series(actual, name='Actual')\n",
    "    pd_predicted = pd.Series(predicted, name='Predicted')\n",
    "    \n",
    "    CM =  pd.crosstab(pd_actual, pd_predicted).to_numpy()   # CM is converted into a 2 X 2 array.\n",
    "    \n",
    "    TN = CM[0,0]; FP = CM[0,1]; FN = CM[1,0]; TP =  CM[1,1];\n",
    "    \n",
    "    precision = TP / (TP + FP)\n",
    "    \n",
    "    return precision"
   ]
  },
  {
   "cell_type": "code",
   "execution_count": 14,
   "metadata": {},
   "outputs": [],
   "source": [
    "def compute_recall(actual, predicted):\n",
    "    \n",
    "    pd_actual = pd.Series(actual, name='Actual')\n",
    "    pd_predicted = pd.Series(predicted, name='Predicted')\n",
    "    \n",
    "    CM =  pd.crosstab(pd_actual, pd_predicted).to_numpy()   # CM is converted into a 2 X 2 array.\n",
    "    \n",
    "    TN = CM[0,0]; FP = CM[0,1]; FN = CM[1,0]; TP =  CM[1,1];\n",
    "    \n",
    "    recall = TP / (TP + FN)\n",
    "    \n",
    "    return recall"
   ]
  },
  {
   "cell_type": "code",
   "execution_count": 15,
   "metadata": {},
   "outputs": [],
   "source": [
    "def compute_F1_score(actual, predicted):\n",
    "    \n",
    "    precision = compute_precision(actual, predicted)\n",
    "    recall = compute_recall(actual, predicted)\n",
    "    \n",
    "    F1_score = 2 * precision * recall / (precision + recall)\n",
    "    \n",
    "    return F1_score"
   ]
  },
  {
   "cell_type": "code",
   "execution_count": 16,
   "metadata": {},
   "outputs": [],
   "source": [
    "def compute_confusion_matrix(actual, predicted):\n",
    "    \n",
    "    pd_actual = pd.Series(actual, name='Actual')\n",
    "    pd_predicted = pd.Series(predicted, name='Predicted')\n",
    "\n",
    "    CM =  pd.crosstab(pd_actual, pd_predicted)\n",
    "    \n",
    "    return CM"
   ]
  },
  {
   "cell_type": "code",
   "execution_count": 17,
   "metadata": {},
   "outputs": [
    {
     "name": "stdout",
     "output_type": "stream",
     "text": [
      "0.5555555555555556\n",
      "0.625\n",
      "0.5882352941176471\n"
     ]
    },
    {
     "data": {
      "text/html": [
       "<div>\n",
       "<style scoped>\n",
       "    .dataframe tbody tr th:only-of-type {\n",
       "        vertical-align: middle;\n",
       "    }\n",
       "\n",
       "    .dataframe tbody tr th {\n",
       "        vertical-align: top;\n",
       "    }\n",
       "\n",
       "    .dataframe thead th {\n",
       "        text-align: right;\n",
       "    }\n",
       "</style>\n",
       "<table border=\"1\" class=\"dataframe\">\n",
       "  <thead>\n",
       "    <tr style=\"text-align: right;\">\n",
       "      <th>Predicted</th>\n",
       "      <th>0</th>\n",
       "      <th>1</th>\n",
       "    </tr>\n",
       "    <tr>\n",
       "      <th>Actual</th>\n",
       "      <th></th>\n",
       "      <th></th>\n",
       "    </tr>\n",
       "  </thead>\n",
       "  <tbody>\n",
       "    <tr>\n",
       "      <th>0</th>\n",
       "      <td>3</td>\n",
       "      <td>4</td>\n",
       "    </tr>\n",
       "    <tr>\n",
       "      <th>1</th>\n",
       "      <td>3</td>\n",
       "      <td>5</td>\n",
       "    </tr>\n",
       "  </tbody>\n",
       "</table>\n",
       "</div>"
      ],
      "text/plain": [
       "Predicted  0  1\n",
       "Actual         \n",
       "0          3  4\n",
       "1          3  5"
      ]
     },
     "execution_count": 17,
     "metadata": {},
     "output_type": "execute_result"
    }
   ],
   "source": [
    "actual = [1, 1, 1, 0, 0, 0, 0, 0, 1, 1, 1, 0, 1, 0, 1]\n",
    "predicted = [1, 0, 1, 0, 1, 1, 0, 1, 1, 1, 0, 1, 1, 0, 0]\n",
    "\n",
    "print(compute_precision(actual, predicted))\n",
    "print(compute_recall(actual, predicted))\n",
    "print(compute_F1_score(actual, predicted))\n",
    "compute_confusion_matrix(actual, predicted)"
   ]
  },
  {
   "cell_type": "code",
   "execution_count": null,
   "metadata": {},
   "outputs": [],
   "source": []
  }
 ],
 "metadata": {
  "kernelspec": {
   "display_name": "Python 3",
   "language": "python",
   "name": "python3"
  },
  "language_info": {
   "codemirror_mode": {
    "name": "ipython",
    "version": 3
   },
   "file_extension": ".py",
   "mimetype": "text/x-python",
   "name": "python",
   "nbconvert_exporter": "python",
   "pygments_lexer": "ipython3",
   "version": "3.7.6"
  }
 },
 "nbformat": 4,
 "nbformat_minor": 4
}
