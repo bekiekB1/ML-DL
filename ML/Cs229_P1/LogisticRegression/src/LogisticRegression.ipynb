{
 "cells": [
  {
   "cell_type": "code",
   "execution_count": 19,
   "metadata": {},
   "outputs": [],
   "source": [
    "##Imports \n",
    "import numpy as np\n",
    "import matplotlib.pyplot as plt\n",
    "import pandas as pd\n",
    "import time"
   ]
  },
  {
   "cell_type": "code",
   "execution_count": 20,
   "metadata": {},
   "outputs": [],
   "source": [
    "class util:\n",
    "    def add_intercept(x):\n",
    "        \"\"\"Add intercept to matrix x.\n",
    "\n",
    "        Args:\n",
    "            x: 2D NumPy array.\n",
    "\n",
    "        Returns:\n",
    "            New matrix same as x with 1's in the 0th column.\n",
    "        \"\"\"\n",
    "        new_x = np.zeros((x.shape[0], x.shape[1] + 1), dtype=x.dtype)\n",
    "        new_x[:, 0] = 1\n",
    "        new_x[:, 1:] = x\n",
    "\n",
    "        return new_x\n",
    "    \n",
    "    ##Also can be done easily using Pandas like Linear Regression\n",
    "    def load_dataset(csv_path, label_col='y', add_intercept=False):\n",
    "        \"\"\"Load dataset from a CSV file.\n",
    "\n",
    "        Args:\n",
    "             csv_path: Path to CSV file containing dataset.\n",
    "             label_col: Name of column to use as labels (should be 'y' or 'l').\n",
    "             add_intercept: Add an intercept entry to x-values.\n",
    "\n",
    "        Returns:\n",
    "            xs: Numpy array of x-values (inputs).\n",
    "            ys: Numpy array of y-values (labels).\n",
    "        \"\"\"\n",
    "\n",
    "        def add_intercept_fn(x):\n",
    "            global add_intercept\n",
    "            return util.add_intercept(x)\n",
    "\n",
    "        # Validate label_col argument\n",
    "        allowed_label_cols = ('y', 't')\n",
    "        if label_col not in allowed_label_cols:\n",
    "            raise ValueError('Invalid label_col: {} (expected {})'\n",
    "                             .format(label_col, allowed_label_cols))\n",
    "\n",
    "        # Load headers\n",
    "        with open(csv_path, 'r') as csv_fh:\n",
    "            headers = csv_fh.readline().strip().split(',')\n",
    "\n",
    "        # Load features and labels\n",
    "        x_cols = [i for i in range(len(headers)) if headers[i].startswith('x')]\n",
    "        l_cols = [i for i in range(len(headers)) if headers[i] == label_col]\n",
    "        inputs = np.loadtxt(csv_path, delimiter=',', skiprows=1, usecols=x_cols)\n",
    "        labels = np.loadtxt(csv_path, delimiter=',', skiprows=1, usecols=l_cols)\n",
    "\n",
    "        if inputs.ndim == 1:\n",
    "            inputs = np.expand_dims(inputs, -1)\n",
    "\n",
    "        if add_intercept:\n",
    "            inputs = add_intercept_fn(inputs)\n",
    "\n",
    "        return inputs, labels\n",
    "    \n",
    "    def plot(x, y, theta, save_path, correction=1.0):\n",
    "        \"\"\"Plot dataset and fitted logistic regression parameters.\n",
    "\n",
    "        Args:\n",
    "            x: Matrix of training examples, one per row.\n",
    "            y: Vector of labels in {0, 1}.\n",
    "            theta: Vector of parameters for logistic regression model.\n",
    "            save_path: Path to save the plot.\n",
    "            correction: Correction factor to apply (Problem 2(e) only).\n",
    "        \"\"\"\n",
    "        # Plot dataset\n",
    "        plt.figure()\n",
    "        plt.plot(x[y == 1, -2], x[y == 1, -1], 'bx', linewidth=2)\n",
    "        plt.plot(x[y == 0, -2], x[y == 0, -1], 'go', linewidth=2)\n",
    "\n",
    "        # Plot decision boundary (found by solving for theta^T x = 0)\n",
    "        x1 = np.arange(min(x[:, -2]), max(x[:, -2]), 0.01)\n",
    "        x2 = -(theta[0] / theta[2] * correction + theta[1] / theta[2] * x1)\n",
    "        plt.plot(x1, x2, c='red', linewidth=2)\n",
    "\n",
    "        # Add labels and save to disk\n",
    "        plt.xlabel('x1')\n",
    "        plt.ylabel('x2')\n",
    "        plt.savefig(save_path)\n",
    "    "
   ]
  },
  {
   "cell_type": "code",
   "execution_count": 21,
   "metadata": {},
   "outputs": [
    {
     "name": "stdout",
     "output_type": "stream",
     "text": [
      "[[9 1 8 1]\n",
      " [1 7 5 7]\n",
      " [5 1 7 0]] \n",
      "\n",
      "\n",
      "[[1 9 1 8 1]\n",
      " [1 1 7 5 7]\n",
      " [1 5 1 7 0]]\n"
     ]
    }
   ],
   "source": [
    "a = np.random.randint(0,10,size = (3,4))\n",
    "print(a,'\\n\\n')\n",
    "a = util.add_intercept(a)\n",
    "print(a)"
   ]
  },
  {
   "cell_type": "code",
   "execution_count": 22,
   "metadata": {},
   "outputs": [
    {
     "name": "stdout",
     "output_type": "stream",
     "text": [
      "(800, 2) (800,)\n"
     ]
    },
    {
     "data": {
      "image/png": "[encoded data removed]",
      "text/plain": [
       "<Figure size 432x288 with 1 Axes>"
      ]
     },
     "metadata": {
      "needs_background": "light"
     },
     "output_type": "display_data"
    }
   ],
   "source": [
    "x,y = util.load_dataset('../data/ds1_train.csv')\n",
    "print(x.shape,y.shape)\n",
    "util.plot(x,y,theta=[0.1,0.1,0.1],save_path='../output/output.png')"
   ]
  },
  {
   "cell_type": "code",
   "execution_count": 23,
   "metadata": {},
   "outputs": [],
   "source": [
    "## Interface with abstract methods\n",
    "class LinearModel(object):\n",
    "    \"\"\"Base class for linear models.\"\"\"\n",
    "\n",
    "    def __init__(self, step_size=0.2, max_iter=100, eps=1e-5,\n",
    "                 theta_0=None, verbose=True):\n",
    "        \"\"\"\n",
    "        Args:\n",
    "            step_size: Step size for iterative solvers only.\n",
    "            max_iter: Maximum number of iterations for the solver.\n",
    "            eps: Threshold for determining convergence.\n",
    "            theta_0: Initial guess for theta. If None, use the zero vector.\n",
    "            verbose: Print loss values during training.\n",
    "        \"\"\"\n",
    "        self.theta = theta_0\n",
    "        self.step_size = step_size\n",
    "        self.max_iter = max_iter\n",
    "        self.eps = eps\n",
    "        self.verbose = verbose\n",
    "\n",
    "    def fit(self, x, y):\n",
    "        \"\"\"Run solver to fit linear model.\n",
    "\n",
    "        Args:\n",
    "            x: Training example inputs. Shape (m, n).\n",
    "            y: Training example labels. Shape (m,).\n",
    "        \"\"\"\n",
    "        raise NotImplementedError('Subclass of LinearModel must implement fit method.')\n",
    "\n",
    "    def predict(self, x):\n",
    "        \"\"\"Make a prediction given new inputs x.\n",
    "\n",
    "        Args:\n",
    "            x: Inputs of shape (m, n).\n",
    "\n",
    "        Returns:\n",
    "            Outputs of shape (m,).\n",
    "        \"\"\"\n",
    "        raise NotImplementedError('Subclass of LinearModel must implement predict method.')\n"
   ]
  },
  {
   "cell_type": "code",
   "execution_count": 38,
   "metadata": {},
   "outputs": [],
   "source": [
    "class LogisticRegression(LinearModel):\n",
    "    \"\"\"Logistic regression with Newton's Method as the solver.\"\"\"\n",
    "\n",
    "    def fit(self, x, y):\n",
    "        \"\"\"Run Newton's Method to minimize J(theta) for logistic regression.\n",
    "\n",
    "        Args:\n",
    "            x: Training example inputs. Shape (m, n).\n",
    "            y: Training example labels. Shape (m,).\n",
    "        \"\"\"\n",
    "        # *** START CODE HERE ***\n",
    "        \n",
    "        m, n = x.shape  ##Size of training set , size of theta\n",
    "        \n",
    "        # initialize theta (Zeros)\n",
    "        if self.theta is None:\n",
    "            self.theta = np.zeros(n)\n",
    "            \n",
    "        ##Canonical Response function for Logistic Reg    \n",
    "        g = lambda x: 1 / (1 + np.exp(-x))\n",
    "        \n",
    "\n",
    "        while True:##Repeat Untill Convergence\n",
    "            theta = self.theta \n",
    "            theta_T_x = x @ theta\n",
    "            dJ = - (1 / m) * (y - g(theta_T_x)) @ x# compute Cost wrt parameter(theta)\n",
    "                 \n",
    "            \n",
    "            H = (1 / m) * g(theta_T_x).dot(g(1 - theta_T_x)) * x.T @ x #Hession \n",
    "            H_inv = np.linalg.inv(H) #Inverse of hession (Costly computation)\n",
    "            \n",
    "            self.theta = theta - H_inv.dot(dJ) #Use the newtons raphson method \n",
    "            if np.linalg.norm(self.theta - theta, ord=1) < self.eps:###repeat until derivative or theta is as low as eps\n",
    "                break\n",
    "        # *** END CODE HERE ***\n",
    "\n",
    "    def predict(self, x):\n",
    "        \"\"\"Make a prediction given new inputs x.\n",
    "\n",
    "        Args:\n",
    "            x: Inputs of shape (m, n).\n",
    "\n",
    "        Returns:\n",
    "            Outputs of shape (m,).\n",
    "        \"\"\"\n",
    "        # *** START CODE HERE ***\n",
    "        # Test time: h(x) gives the prediction on an input\n",
    "        g = lambda x: 1 / (1 + np.exp(-x))\n",
    "        theta_T_x = x @ self.theta\n",
    "        preds = g(theta_T_x)\n",
    "        \n",
    "        return preds\n",
    "        # *** END CODE HERE ***"
   ]
  },
  {
   "cell_type": "code",
   "execution_count": 39,
   "metadata": {},
   "outputs": [
    {
     "name": "stdout",
     "output_type": "stream",
     "text": [
      "Time :  28.015625 s\n"
     ]
    },
    {
     "data": {
      "image/png": "[encoded data removed]",
      "text/plain": [
       "<Figure size 432x288 with 1 Axes>"
      ]
     },
     "metadata": {
      "needs_background": "light"
     },
     "output_type": "display_data"
    }
   ],
   "source": [
    "if __name__ == '__main__':\n",
    "    train_path = '../data/ds1_train.csv'\n",
    "    eval_path = '../data/ds1_valid.csv'\n",
    "    pred_path='../output/pred.txt'\n",
    "    x_train, y_train = util.load_dataset(train_path, add_intercept=True)\n",
    "\n",
    "    # *** START CODE HERE ***\n",
    "    start = time.process_time()\n",
    "    model = LogisticRegression(eps=1e-5)# Instantiate the model, LogisticRegression in this case\n",
    "    model.fit(x_train, y_train)## feed the data to model for training\n",
    "    \n",
    "    # Plot decision boundary \n",
    "    x_val, y_val = util.load_dataset(eval_path, add_intercept=True) #load the val set \n",
    "    y_pred = model.predict(x_val) ## do the precdicion on val set\n",
    "    util.plot(x_val, y_val, model.theta, '{}.png'.format(pred_path)) ## Plot the data and decision boundary(util.plot)\n",
    "    \n",
    "    np.savetxt(pred_path, y_pred) ## Save the prediction made\n",
    "    end = time.process_time()\n",
    "    print('Time : ',end - start,'s')"
   ]
  },
  {
   "cell_type": "code",
   "execution_count": null,
   "metadata": {},
   "outputs": [],
   "source": []
  }
 ],
 "metadata": {
  "kernelspec": {
   "display_name": "Python 3",
   "language": "python",
   "name": "python3"
  },
  "language_info": {
   "codemirror_mode": {
    "name": "ipython",
    "version": 3
   },
   "file_extension": ".py",
   "mimetype": "text/x-python",
   "name": "python",
   "nbconvert_exporter": "python",
   "pygments_lexer": "ipython3",
   "version": "3.7.6"
  }
 },
 "nbformat": 4,
 "nbformat_minor": 4
}
