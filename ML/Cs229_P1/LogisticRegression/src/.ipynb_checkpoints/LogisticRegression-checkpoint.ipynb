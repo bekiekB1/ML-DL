{
 "cells": [
  {
   "cell_type": "code",
   "execution_count": 1,
   "metadata": {},
   "outputs": [],
   "source": [
    "##Imports \n",
    "import numpy as np\n",
    "import matplotlib.pyplot as plt\n",
    "import pandas as pd"
   ]
  },
  {
   "cell_type": "code",
   "execution_count": 2,
   "metadata": {},
   "outputs": [],
   "source": [
    "class util:\n",
    "    def add_intercept(x):\n",
    "        \"\"\"Add intercept to matrix x.\n",
    "\n",
    "        Args:\n",
    "            x: 2D NumPy array.\n",
    "\n",
    "        Returns:\n",
    "            New matrix same as x with 1's in the 0th column.\n",
    "        \"\"\"\n",
    "        new_x = np.zeros((x.shape[0], x.shape[1] + 1), dtype=x.dtype)\n",
    "        new_x[:, 0] = 1\n",
    "        new_x[:, 1:] = x\n",
    "\n",
    "        return new_x\n",
    "    \n",
    "    ##Also can be done easily using Pandas like Linear Regression\n",
    "    def load_dataset(csv_path, label_col='y', add_intercept=False):\n",
    "        \"\"\"Load dataset from a CSV file.\n",
    "\n",
    "        Args:\n",
    "             csv_path: Path to CSV file containing dataset.\n",
    "             label_col: Name of column to use as labels (should be 'y' or 'l').\n",
    "             add_intercept: Add an intercept entry to x-values.\n",
    "\n",
    "        Returns:\n",
    "            xs: Numpy array of x-values (inputs).\n",
    "            ys: Numpy array of y-values (labels).\n",
    "        \"\"\"\n",
    "\n",
    "        def add_intercept_fn(x):\n",
    "            global add_intercept\n",
    "            return add_intercept(x)\n",
    "\n",
    "        # Validate label_col argument\n",
    "        allowed_label_cols = ('y', 't')\n",
    "        if label_col not in allowed_label_cols:\n",
    "            raise ValueError('Invalid label_col: {} (expected {})'\n",
    "                             .format(label_col, allowed_label_cols))\n",
    "\n",
    "        # Load headers\n",
    "        with open(csv_path, 'r') as csv_fh:\n",
    "            headers = csv_fh.readline().strip().split(',')\n",
    "\n",
    "        # Load features and labels\n",
    "        x_cols = [i for i in range(len(headers)) if headers[i].startswith('x')]\n",
    "        l_cols = [i for i in range(len(headers)) if headers[i] == label_col]\n",
    "        inputs = np.loadtxt(csv_path, delimiter=',', skiprows=1, usecols=x_cols)\n",
    "        labels = np.loadtxt(csv_path, delimiter=',', skiprows=1, usecols=l_cols)\n",
    "\n",
    "        if inputs.ndim == 1:\n",
    "            inputs = np.expand_dims(inputs, -1)\n",
    "\n",
    "        if add_intercept:\n",
    "            inputs = add_intercept_fn(inputs)\n",
    "\n",
    "        return inputs, labels\n",
    "    \n",
    "    def plot(x, y, theta, save_path, correction=1.0):\n",
    "        \"\"\"Plot dataset and fitted logistic regression parameters.\n",
    "\n",
    "        Args:\n",
    "            x: Matrix of training examples, one per row.\n",
    "            y: Vector of labels in {0, 1}.\n",
    "            theta: Vector of parameters for logistic regression model.\n",
    "            save_path: Path to save the plot.\n",
    "            correction: Correction factor to apply (Problem 2(e) only).\n",
    "        \"\"\"\n",
    "        # Plot dataset\n",
    "        plt.figure()\n",
    "        plt.plot(x[y == 1, -2], x[y == 1, -1], 'bx', linewidth=2)\n",
    "        plt.plot(x[y == 0, -2], x[y == 0, -1], 'go', linewidth=2)\n",
    "\n",
    "        # Plot decision boundary (found by solving for theta^T x = 0)\n",
    "        x1 = np.arange(min(x[:, -2]), max(x[:, -2]), 0.01)\n",
    "        x2 = -(theta[0] / theta[2] * correction + theta[1] / theta[2] * x1)\n",
    "        plt.plot(x1, x2, c='red', linewidth=2)\n",
    "\n",
    "        # Add labels and save to disk\n",
    "        plt.xlabel('x1')\n",
    "        plt.ylabel('x2')\n",
    "        plt.savefig(save_path)\n",
    "    "
   ]
  },
  {
   "cell_type": "code",
   "execution_count": 3,
   "metadata": {},
   "outputs": [
    {
     "name": "stdout",
     "output_type": "stream",
     "text": [
      "[[5 8 3 3]\n",
      " [5 0 6 9]\n",
      " [5 0 8 2]] \n",
      "\n",
      "\n",
      "[[1 5 8 3 3]\n",
      " [1 5 0 6 9]\n",
      " [1 5 0 8 2]]\n"
     ]
    }
   ],
   "source": [
    "a = np.random.randint(0,10,size = (3,4))\n",
    "print(a,'\\n\\n')\n",
    "a = util.add_intercept(a)\n",
    "print(a)"
   ]
  },
  {
   "cell_type": "code",
   "execution_count": 4,
   "metadata": {},
   "outputs": [
    {
     "name": "stdout",
     "output_type": "stream",
     "text": [
      "(800, 2) (800,)\n"
     ]
    }
   ],
   "source": [
    "x,y = util.load_dataset('../data/ds1_train.csv')\n",
    "print(x.shape,y.shape)"
   ]
  },
  {
   "cell_type": "code",
   "execution_count": 6,
   "metadata": {},
   "outputs": [
    {
     "data": {
      "image/png": "[encoded data removed]",
      "text/plain": [
       "<Figure size 432x288 with 1 Axes>"
      ]
     },
     "metadata": {
      "needs_background": "light"
     },
     "output_type": "display_data"
    }
   ],
   "source": [
    "util.plot(x,y,theta=[0.1,0.1,0.1],save_path='../output')"
   ]
  },
  {
   "cell_type": "code",
   "execution_count": null,
   "metadata": {},
   "outputs": [],
   "source": []
  }
 ],
 "metadata": {
  "kernelspec": {
   "display_name": "Python 3",
   "language": "python",
   "name": "python3"
  },
  "language_info": {
   "codemirror_mode": {
    "name": "ipython",
    "version": 3
   },
   "file_extension": ".py",
   "mimetype": "text/x-python",
   "name": "python",
   "nbconvert_exporter": "python",
   "pygments_lexer": "ipython3",
   "version": "3.6.10"
  }
 },
 "nbformat": 4,
 "nbformat_minor": 4
}
