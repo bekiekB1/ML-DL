{
 "cells": [
  {
   "cell_type": "code",
   "execution_count": 3,
   "metadata": {},
   "outputs": [],
   "source": [
    "import numpy as np\n",
    "\n",
    "import util\n",
    "from linear_model import LinearModel"
   ]
  },
  {
   "cell_type": "code",
   "execution_count": 6,
   "metadata": {},
   "outputs": [],
   "source": [
    "class PoissonRegression(LinearModel):\n",
    "    def fit(self, x, y):\n",
    "        \"\"\"Run gradient ascent to maximize likelihood for Poisson regression.\n",
    "\n",
    "        Args:\n",
    "            x: Training example inputs. Shape (m, n).\n",
    "            y: Training example labels. Shape (m,).\n",
    "        \"\"\"\n",
    "        # *** START CODE HERE ***\n",
    "        m, n = x.shape\n",
    "        if self.theta is None:\n",
    "            self.theta = np.zeros(n)         \n",
    "        g = lambda x: np.exp(x)\n",
    "        for i in range(self.max_iter):\n",
    "            theta = self.theta\n",
    "            grad = (1 / m) * (y - g(x @ theta)) @ x\n",
    "            self.theta = theta + self.step_size * grad\n",
    "            if np.linalg.norm(self.theta - theta, ord=1) < self.eps:\n",
    "                break\n",
    "        \n",
    "        # *** END CODE HERE ***\n",
    "\n",
    "    def predict(self, x):\n",
    "        \"\"\"Make a prediction given inputs x.\n",
    "\n",
    "        Args:\n",
    "            x: Inputs of shape (m, n).\n",
    "\n",
    "        Returns:\n",
    "            Floating-point prediction for each input, shape (m,).\n",
    "        \"\"\"\n",
    "        # *** START CODE HERE ***\n",
    "        g = lambda x: np.exp(x)\n",
    "        return g(x @ self.theta)\n",
    "        # *** END CODE HERE ***"
   ]
  },
  {
   "cell_type": "code",
   "execution_count": 7,
   "metadata": {},
   "outputs": [],
   "source": [
    "if __name__ == '__main__':\n",
    "    lr=1e-7,\n",
    "    train_path='../data/ds4_train.csv'\n",
    "    eval_path='../data/ds4_valid.csv'\n",
    "    pred_path='../output/p03d_pred.txt'\n",
    "    # Load training set\n",
    "    x_train, y_train = util.load_dataset(train_path, add_intercept=False)\n",
    "\n",
    "    # *** START CODE HERE ***\n",
    "    # Fit a Poisson Regression model\n",
    "    model = PoissonRegression(max_iter=1000000, step_size=1e-7, eps=1e-5)\n",
    "    model.fit(x_train, y_train)\n",
    "    \n",
    "    # Test on the validation set\n",
    "    x_val, y_val = util.load_dataset(eval_path, add_intercept=False)\n",
    "    y_pred = model.predict(x_val)\n",
    "    \n",
    "    #save outputs to pred_path\n",
    "    np.savetxt(pred_path, y_pred)\n",
    "    # *** END CODE HERE ***"
   ]
  },
  {
   "cell_type": "code",
   "execution_count": null,
   "metadata": {},
   "outputs": [],
   "source": []
  }
 ],
 "metadata": {
  "kernelspec": {
   "display_name": "Python 3",
   "language": "python",
   "name": "python3"
  },
  "language_info": {
   "codemirror_mode": {
    "name": "ipython",
    "version": 3
   },
   "file_extension": ".py",
   "mimetype": "text/x-python",
   "name": "python",
   "nbconvert_exporter": "python",
   "pygments_lexer": "ipython3",
   "version": "3.7.6"
  }
 },
 "nbformat": 4,
 "nbformat_minor": 4
}
