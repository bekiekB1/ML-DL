{
 "cells": [
  {
   "cell_type": "code",
   "execution_count": 1,
   "metadata": {},
   "outputs": [],
   "source": [
    "## Practicing Some Visulization and Ref Data Visulation. See the PDF \n",
    "import pandas as pd "
   ]
  },
  {
   "cell_type": "code",
   "execution_count": 2,
   "metadata": {},
   "outputs": [
    {
     "data": {
      "text/html": [
       "<div>\n",
       "<style scoped>\n",
       "    .dataframe tbody tr th:only-of-type {\n",
       "        vertical-align: middle;\n",
       "    }\n",
       "\n",
       "    .dataframe tbody tr th {\n",
       "        vertical-align: top;\n",
       "    }\n",
       "\n",
       "    .dataframe thead th {\n",
       "        text-align: right;\n",
       "    }\n",
       "</style>\n",
       "<table border=\"1\" class=\"dataframe\">\n",
       "  <thead>\n",
       "    <tr style=\"text-align: right;\">\n",
       "      <th></th>\n",
       "      <th>Lot.Area</th>\n",
       "      <th>Bedroom.AbvGr</th>\n",
       "      <th>SalePrice</th>\n",
       "    </tr>\n",
       "  </thead>\n",
       "  <tbody>\n",
       "    <tr>\n",
       "      <th>1</th>\n",
       "      <td>11622</td>\n",
       "      <td>2</td>\n",
       "      <td>105.0</td>\n",
       "    </tr>\n",
       "    <tr>\n",
       "      <th>2</th>\n",
       "      <td>14267</td>\n",
       "      <td>3</td>\n",
       "      <td>172.0</td>\n",
       "    </tr>\n",
       "    <tr>\n",
       "      <th>3</th>\n",
       "      <td>11160</td>\n",
       "      <td>3</td>\n",
       "      <td>244.0</td>\n",
       "    </tr>\n",
       "    <tr>\n",
       "      <th>4</th>\n",
       "      <td>13830</td>\n",
       "      <td>3</td>\n",
       "      <td>189.9</td>\n",
       "    </tr>\n",
       "    <tr>\n",
       "      <th>5</th>\n",
       "      <td>9978</td>\n",
       "      <td>3</td>\n",
       "      <td>195.5</td>\n",
       "    </tr>\n",
       "    <tr>\n",
       "      <th>6</th>\n",
       "      <td>4920</td>\n",
       "      <td>2</td>\n",
       "      <td>213.5</td>\n",
       "    </tr>\n",
       "    <tr>\n",
       "      <th>7</th>\n",
       "      <td>5005</td>\n",
       "      <td>2</td>\n",
       "      <td>191.5</td>\n",
       "    </tr>\n",
       "    <tr>\n",
       "      <th>8</th>\n",
       "      <td>5389</td>\n",
       "      <td>2</td>\n",
       "      <td>236.5</td>\n",
       "    </tr>\n",
       "    <tr>\n",
       "      <th>9</th>\n",
       "      <td>7500</td>\n",
       "      <td>3</td>\n",
       "      <td>189.0</td>\n",
       "    </tr>\n",
       "  </tbody>\n",
       "</table>\n",
       "</div>"
      ],
      "text/plain": [
       "   Lot.Area  Bedroom.AbvGr  SalePrice\n",
       "1     11622              2      105.0\n",
       "2     14267              3      172.0\n",
       "3     11160              3      244.0\n",
       "4     13830              3      189.9\n",
       "5      9978              3      195.5\n",
       "6      4920              2      213.5\n",
       "7      5005              2      191.5\n",
       "8      5389              2      236.5\n",
       "9      7500              3      189.0"
      ]
     },
     "execution_count": 2,
     "metadata": {},
     "output_type": "execute_result"
    }
   ],
   "source": [
    "df = pd.read_csv('..\\data\\modfII.csv')\n",
    "df[1:10]"
   ]
  },
  {
   "cell_type": "code",
   "execution_count": 3,
   "metadata": {},
   "outputs": [
    {
     "data": {
      "text/plain": [
       "array([[31770,     3,   215],\n",
       "       [11622,     2,   105],\n",
       "       [14267,     3,   172],\n",
       "       [11160,     3,   244],\n",
       "       [13830,     3,   189],\n",
       "       [ 9978,     3,   195],\n",
       "       [ 4920,     2,   213],\n",
       "       [ 5005,     2,   191],\n",
       "       [ 5389,     2,   236],\n",
       "       [ 7500,     3,   189],\n",
       "       [10000,     3,   175],\n",
       "       [ 7980,     3,   185],\n",
       "       [ 8402,     3,   180],\n",
       "       [10176,     2,   171],\n",
       "       [ 6820,     1,   212],\n",
       "       [53504,     4,   538],\n",
       "       [12134,     4,   164],\n",
       "       [11394,     1,   394],\n",
       "       [19138,     2,   141],\n",
       "       [13175,     3,   210],\n",
       "       [11751,     3,   190],\n",
       "       [10625,     3,   170],\n",
       "       [ 7500,     3,   216],\n",
       "       [11241,     2,   149],\n",
       "       [12537,     3,   149],\n",
       "       [ 8450,     3,   142],\n",
       "       [ 8400,     2,   126],\n",
       "       [10500,     3,   115],\n",
       "       [ 5858,     2,   184],\n",
       "       [ 1680,     2,    96],\n",
       "       [ 1680,     3,   105],\n",
       "       [ 1680,     3,    88],\n",
       "       [ 4043,     2,   127],\n",
       "       [ 2280,     3,   149],\n",
       "       [ 2280,     2,   120],\n",
       "       [ 2280,     3,   146],\n",
       "       [12858,     3,   376],\n",
       "       [11478,     3,   306],\n",
       "       [10159,     3,   395],\n",
       "       [12883,     3,   290],\n",
       "       [12182,     3,   220],\n",
       "       [11520,     3,   275],\n",
       "       [14122,     3,   259],\n",
       "       [10171,     3,   214],\n",
       "       [12919,     2,   611],\n",
       "       [ 6371,     2,   224],\n",
       "       [14300,     3,   500],\n",
       "       [13650,     3,   320],\n",
       "       [ 7658,     2,   319],\n",
       "       [ 7132,     2,   205],\n",
       "       [ 2628,     2,   175],\n",
       "       [18494,     3,   199],\n",
       "       [ 3203,     2,   160],\n",
       "       [ 3182,     2,   192],\n",
       "       [13300,     3,   184],\n",
       "       [ 7851,     4,   216],\n",
       "       [ 8577,     3,   185],\n",
       "       [ 7750,     3,   180],\n",
       "       [ 9505,     3,   222],\n",
       "       [14774,     4,   333],\n",
       "       [17433,     4,   355],\n",
       "       [10593,     3,   260],\n",
       "       [12256,     3,   325],\n",
       "       [11764,     4,   290],\n",
       "       [16770,     4,   221],\n",
       "       [14720,     4,   410],\n",
       "       [ 8987,     2,   221],\n",
       "       [ 9215,     2,   204],\n",
       "       [ 8640,     3,   215],\n",
       "       [ 9000,     3,   262],\n",
       "       [12552,     3,   254],\n",
       "       [10440,     2,   271],\n",
       "       [10142,     4,   233],\n",
       "       [11920,     3,   181],\n",
       "       [ 8880,     3,   205],\n",
       "       [ 8012,     2,   143],\n",
       "       [11218,     3,   189],\n",
       "       [ 7892,     2,    99],\n",
       "       [ 7175,     2,   125],\n",
       "       [ 9453,     3,   194],\n",
       "       [ 9672,     3,   152],\n",
       "       [ 8400,     3,   171],\n",
       "       [ 9800,     2,    67],\n",
       "       [ 8930,     4,   112],\n",
       "       [11782,     3,   148],\n",
       "       [ 8450,     3,   138],\n",
       "       [ 9819,     3,   122],\n",
       "       [ 7500,     3,   133],\n",
       "       [ 6897,     3,   127],\n",
       "       [15410,     3,   169],\n",
       "       [10186,     3,   190],\n",
       "       [13143,     4,   362],\n",
       "       [11134,     4,   285],\n",
       "       [ 4835,     2,   260],\n",
       "       [ 3515,     2,   190],\n",
       "       [ 3215,     2,   155],\n",
       "       [ 3182,     2,   151],\n",
       "       [ 2544,     2,   149],\n",
       "       [ 2544,     2,   152],\n",
       "       [ 4403,     2,   222],\n",
       "       [ 2117,     3,   177]])"
      ]
     },
     "execution_count": 3,
     "metadata": {},
     "output_type": "execute_result"
    }
   ],
   "source": [
    "data = df.values\n",
    "data  = data.astype(int)\n",
    "data"
   ]
  },
  {
   "cell_type": "code",
   "execution_count": 4,
   "metadata": {},
   "outputs": [],
   "source": [
    "inputs = data[:,:2]\n",
    "labels =  data[:,2]"
   ]
  },
  {
   "cell_type": "code",
   "execution_count": 5,
   "metadata": {},
   "outputs": [
    {
     "data": {
      "text/plain": [
       "<function matplotlib.pyplot.show(*args, **kw)>"
      ]
     },
     "execution_count": 5,
     "metadata": {},
     "output_type": "execute_result"
    },
    {
     "data": {
      "image/png": "[encoded data removed]",
      "text/plain": [
       "<Figure size 432x288 with 1 Axes>"
      ]
     },
     "metadata": {
      "needs_background": "light"
     },
     "output_type": "display_data"
    }
   ],
   "source": [
    "import matplotlib.pyplot as plt\n",
    "fig = plt.figure()\n",
    "ax = fig.add_subplot(111)\n",
    "ax.scatter(inputs[:,0],inputs[:,1],linewidth = 2,color = 'g')\n",
    "plt.show"
   ]
  },
  {
   "cell_type": "code",
   "execution_count": 6,
   "metadata": {},
   "outputs": [
    {
     "data": {
      "image/png": "[encoded data removed]",
      "text/plain": [
       "<Figure size 432x288 with 1 Axes>"
      ]
     },
     "metadata": {
      "needs_background": "light"
     },
     "output_type": "display_data"
    }
   ],
   "source": [
    "fig =plt.figure()\n",
    "ax = fig.add_subplot(111) \n",
    "ax.scatter(inputs[:,0], labels)\n",
    "\n",
    "plt.show()"
   ]
  },
  {
   "cell_type": "code",
   "execution_count": 7,
   "metadata": {},
   "outputs": [
    {
     "data": {
      "image/png": "[encoded data removed]",
      "text/plain": [
       "<Figure size 432x288 with 1 Axes>"
      ]
     },
     "metadata": {
      "needs_background": "light"
     },
     "output_type": "display_data"
    }
   ],
   "source": [
    "from mpl_toolkits.mplot3d import Axes3D\n",
    "fig3d =plt.figure()\n",
    "ax = fig3d.add_subplot(111, projection='3d') \n",
    "ax.scatter(inputs[:,0], inputs[:,1], labels)\n",
    "plt.show()"
   ]
  },
  {
   "cell_type": "code",
   "execution_count": 16,
   "metadata": {},
   "outputs": [],
   "source": [
    "\n",
    "## Same concept and Algorith from Linear_r but exatracted from Pdf CS229(Data VIZ)\n",
    "x_1, x_2 = inputs[:,0],inputs[:,1]\n",
    "y = labels"
   ]
  },
  {
   "cell_type": "code",
   "execution_count": 17,
   "metadata": {},
   "outputs": [],
   "source": [
    "def least_sq_loss(X, theta_0, theta_1, y, delta=0.1):\n",
    "    Z = np.zeros( (theta_0.shape[0], theta_1.shape[0]) ) \n",
    "    for i in range(Z.shape[0]): \n",
    "        for j in range(Z.shape[1]): \n",
    "            u = np.matrix( [theta_0[i],theta_1[j]] ).T \n",
    "            v = X@u - y \n",
    "            Z[i,j] = np.float(np.dot(v.T,v))\n",
    "    return 0.5*Z"
   ]
  },
  {
   "cell_type": "code",
   "execution_count": 18,
   "metadata": {},
   "outputs": [
    {
     "name": "stderr",
     "output_type": "stream",
     "text": [
      "C:\\Users\\bibek\\anaconda3\\lib\\site-packages\\ipykernel_launcher.py:11: RuntimeWarning: overflow encountered in matmul\n",
      "  # This is added back by InteractiveShellApp.init_path()\n",
      "C:\\Users\\bibek\\anaconda3\\lib\\site-packages\\ipykernel_launcher.py:11: RuntimeWarning: invalid value encountered in subtract\n",
      "  # This is added back by InteractiveShellApp.init_path()\n"
     ]
    },
    {
     "data": {
      "text/plain": [
       "matrix([[nan],\n",
       "        [nan]])"
      ]
     },
     "execution_count": 18,
     "metadata": {},
     "output_type": "execute_result"
    }
   ],
   "source": [
    "n=50\n",
    "url=\"https://archive.ics.uci.edu/ml/machine-learning-databases/autos/imports-85.data\" \n",
    "d=pd.read_csv(url, header=None).values\n",
    "# Construct the dataset \n",
    "city_mpg, hi_mpg = np.matrix(d[:n,23], dtype=float).T,np.matrix(d[:n,24], dtype=float).T \n",
    "X_car = np.concatenate([city_mpg, np.ones( (n,1))],axis=1) # add in the bias term \n",
    "y_car = hi_mpg\n",
    "\n",
    "theta_car = np.matrix( [1.5,1] ).T \n",
    "for t in range(10000):\n",
    "    theta_car = theta_car - 1e-4*X_car.T@(X_car@theta_car-y_car)\n",
    "theta_car\n",
    "\n"
   ]
  },
  {
   "cell_type": "code",
   "execution_count": 19,
   "metadata": {},
   "outputs": [
    {
     "data": {
      "text/plain": [
       "matrix([[0.99879571],\n",
       "        [5.49095021]])"
      ]
     },
     "execution_count": 19,
     "metadata": {},
     "output_type": "execute_result"
    }
   ],
   "source": [
    "theta_linear = np.linalg.inv(X_car.T@X_car)@X_car.T@y_car \n",
    "theta_linear"
   ]
  },
  {
   "cell_type": "code",
   "execution_count": 20,
   "metadata": {},
   "outputs": [
    {
     "data": {
      "image/png": "[encoded data removed]",
      "text/plain": [
       "<Figure size 432x288 with 1 Axes>"
      ]
     },
     "metadata": {
      "needs_background": "light"
     },
     "output_type": "display_data"
    }
   ],
   "source": [
    "\n",
    "fig =plt.figure()\n",
    "ax = fig.add_subplot(111) \n",
    "ax.scatter(city_mpg.tolist(), hi_mpg.tolist())\n",
    "\n",
    "theta = [0.99879571,5.49095021]\n",
    "plt.figure\n",
    "x1 = np.arange(city_mpg.min(), city_mpg.max(), 0.01)\n",
    "x2 = theta[0]*x1 + theta[1]\n",
    "plt.plot(x1, x2, c='red', linewidth=2)\n",
    "\n",
    "plt.show()"
   ]
  },
  {
   "cell_type": "code",
   "execution_count": 21,
   "metadata": {},
   "outputs": [
    {
     "data": {
      "text/plain": [
       "(101, 1)"
      ]
     },
     "execution_count": 21,
     "metadata": {},
     "output_type": "execute_result"
    }
   ],
   "source": [
    "##NOw on our DATA\n",
    "\n",
    "tt = inputs[:,0]\n",
    "np.array(tt)\n",
    "tt = np.reshape(tt,(101,1))\n",
    "tt.shape"
   ]
  },
  {
   "cell_type": "code",
   "execution_count": null,
   "metadata": {},
   "outputs": [],
   "source": []
  }
 ],
 "metadata": {
  "kernelspec": {
   "display_name": "Python 3",
   "language": "python",
   "name": "python3"
  },
  "language_info": {
   "codemirror_mode": {
    "name": "ipython",
    "version": 3
   },
   "file_extension": ".py",
   "mimetype": "text/x-python",
   "name": "python",
   "nbconvert_exporter": "python",
   "pygments_lexer": "ipython3",
   "version": "3.7.6"
  }
 },
 "nbformat": 4,
 "nbformat_minor": 4
}
