{
 "cells": [
  {
   "cell_type": "code",
   "execution_count": 2,
   "metadata": {},
   "outputs": [],
   "source": [
    "import numpy as np\n",
    "\n",
    "import util\n",
    "from linear_model import LinearModel\n",
    "from numpy.linalg import inv"
   ]
  },
  {
   "cell_type": "code",
   "execution_count": 47,
   "metadata": {},
   "outputs": [],
   "source": [
    "class GDA(LinearModel):\n",
    "    def fit(self, x, y):\n",
    "        \"\"\"Fit a GDA model to training set given by x and y.\n",
    "\n",
    "        Args:\n",
    "            x: Training example inputs. Shape (m, n).\n",
    "            y: Training example labels. Shape (m,).\n",
    "\n",
    "        Returns:\n",
    "            theta: GDA model parameters.\n",
    "        \"\"\"\n",
    "        # *** START CODE HERE ***\n",
    "        m, n = x.shape\n",
    "        # Find phi, mu_0, mu_1, and sigma       \n",
    "        #PHI\n",
    "        phi = (y == 1).mean()\n",
    "        \n",
    "        #mu_0\n",
    "        mu_0 = x[y == 0].sum(axis=0) / (y == 0).sum()\n",
    "        \n",
    "        #mu_1\n",
    "        mu_1 = x[y == 1].sum(axis=0) / (y == 1).sum()\n",
    "        \n",
    "        #Copy of x to calculate- x - mu\n",
    "        #x_mu = x.copy()\n",
    "        x_mu = x[:,:]\n",
    "        \n",
    "        #all x with labal 0 is subtracted with mu_0\n",
    "        x_mu[y == 0] -= mu_0\n",
    "        \n",
    "        #all x with labal 0 is subtracted with mu_0\n",
    "        x_mu[y == 1] -= mu_1\n",
    "        \n",
    "        sigma = (1 / m) * x_mu.T.dot(x_mu)\n",
    "        \n",
    "        # theta in terms of the parameters   \n",
    "        sigma_inv = inv(sigma)\n",
    "        \n",
    "        #theta\n",
    "        theta = sigma_inv @ (mu_1 - mu_0)\n",
    "        \n",
    "        #theta0\n",
    "        theta0 = 0.5 * ((mu_0.T @ sigma_inv @ mu_0) - (mu_1.T @ sigma_inv @ mu_1)) - np.log((1 - phi) / phi)\n",
    "        \n",
    "        #combine and return \n",
    "        theta0 = np.array([theta0])\n",
    "        self.theta = np.hstack([theta0, theta])\n",
    "        \n",
    "        return self.theta\n",
    "        # *** END CODE HERE ***\n",
    "\n",
    "    def predict(self, x):\n",
    "        \"\"\"Make a prediction given new inputs x.\n",
    "\n",
    "        Args:\n",
    "            x: Inputs of shape (m, n).\n",
    "\n",
    "        Returns:\n",
    "            Outputs of shape (m,).\n",
    "        \"\"\"\n",
    "        # *** START CODE HERE ***\n",
    "        \n",
    "        sigmoid = lambda z: 1 / (1 + np.exp(-z))\n",
    "        \n",
    "        #Since Intercept is not added while training\n",
    "        x = util.add_intercept(x)\n",
    "        \n",
    "        #GDA implies logistic \n",
    "        prob = sigmoid(x.dot(self.theta))\n",
    "        \n",
    "        #prob >= 0.5 mean model is more confindent data\n",
    "        #came from label y = 1\n",
    "        preds = (prob >= 0.5).astype(np.int)\n",
    "        return preds\n",
    "        # *** END CODE HERE"
   ]
  },
  {
   "cell_type": "code",
   "execution_count": 48,
   "metadata": {},
   "outputs": [],
   "source": [
    "def train_model(train_path, eval_path, pred_path):\n",
    "    x_train, y_train = util.load_dataset(train_path, add_intercept=False)\n",
    "\n",
    "    # *** START CODE HERE ***\n",
    "    # Train a GDA classifier\n",
    "    model = GDA()\n",
    "    model.fit(x_train, y_train)\n",
    "    # Plot decision boundary on validation set\n",
    "    x_val, y_val = util.load_dataset(eval_path, add_intercept=False)\n",
    "    y_pred = model.predict(x_val)\n",
    "    util.plot(x_val, y_val, model.theta, '{}.png'.format(pred_path))\n",
    "    \n",
    "    # Use np.savetxt to save outputs from validation set to pred_path\n",
    "    np.savetxt(pred_path, y_pred)\n",
    "    # *** END CODE HERE ***"
   ]
  },
  {
   "cell_type": "code",
   "execution_count": 49,
   "metadata": {},
   "outputs": [
    {
     "data": {
      "image/png": "[encoded data removed]",
      "text/plain": [
       "<Figure size 432x288 with 1 Axes>"
      ]
     },
     "metadata": {
      "needs_background": "light"
     },
     "output_type": "display_data"
    },
    {
     "data": {
      "image/png": "[encoded data removed]",
      "text/plain": [
       "<Figure size 432x288 with 1 Axes>"
      ]
     },
     "metadata": {
      "needs_background": "light"
     },
     "output_type": "display_data"
    }
   ],
   "source": [
    "if __name__ == '__main__':\n",
    "    train_model(train_path='../data/ds1_train.csv',\n",
    "         eval_path='../data/ds1_valid.csv',\n",
    "         pred_path='../output/p01e_pred_1.txt')\n",
    "\n",
    "    train_model(train_path='../data/ds2_train.csv',\n",
    "         eval_path='../data/ds2_valid.csv',\n",
    "         pred_path='../output/p01e_pred_2.txt')\n"
   ]
  },
  {
   "cell_type": "code",
   "execution_count": null,
   "metadata": {},
   "outputs": [],
   "source": []
  },
  {
   "cell_type": "code",
   "execution_count": null,
   "metadata": {},
   "outputs": [],
   "source": []
  }
 ],
 "metadata": {
  "kernelspec": {
   "display_name": "Python 3",
   "language": "python",
   "name": "python3"
  },
  "language_info": {
   "codemirror_mode": {
    "name": "ipython",
    "version": 3
   },
   "file_extension": ".py",
   "mimetype": "text/x-python",
   "name": "python",
   "nbconvert_exporter": "python",
   "pygments_lexer": "ipython3",
   "version": "3.7.6"
  }
 },
 "nbformat": 4,
 "nbformat_minor": 4
}
