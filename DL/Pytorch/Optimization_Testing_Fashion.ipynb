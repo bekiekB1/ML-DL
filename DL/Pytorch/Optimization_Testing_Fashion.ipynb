{
  "nbformat": 4,
  "nbformat_minor": 0,
  "metadata": {
    "colab": {
      "name": "Optimization_Testing_Fashion.ipynb",
      "provenance": []
    },
    "kernelspec": {
      "name": "python3",
      "display_name": "Python 3"
    }
  },
  "cells": [
    {
      "cell_type": "code",
      "metadata": {
        "id": "P2vknpfk3QP4",
        "colab_type": "code",
        "colab": {
          "base_uri": "https://localhost:8080/",
          "height": 34
        },
        "outputId": "f8e8992c-011b-4de0-fa0b-29e1bbc4a1ba"
      },
      "source": [
        "import torch\n",
        "import torch.nn as nn\n",
        "import torch.nn.functional as F\n",
        "from torchvision import transforms, datasets, models\n",
        "import numpy as np\n",
        "import matplotlib.pyplot as plt\n",
        "from torch.autograd import Variable\n",
        "from collections import namedtuple\n",
        "from IPython.display import Image\n",
        "import time\n",
        "\n",
        "from torch.utils import data\n",
        "\n",
        "%matplotlib inline\n",
        "\n",
        "np.random.seed(2019)\n",
        "cuda = torch.cuda.is_available()\n",
        "cuda"
      ],
      "execution_count": null,
      "outputs": [
        {
          "output_type": "execute_result",
          "data": {
            "text/plain": [
              "False"
            ]
          },
          "metadata": {
            "tags": []
          },
          "execution_count": 79
        }
      ]
    },
    {
      "cell_type": "markdown",
      "metadata": {
        "id": "6fb4Tl5a3kF7",
        "colab_type": "text"
      },
      "source": [
        "FashionMNIST\n",
        "\n",
        "28x28 images\n",
        "\n",
        "10 classes\n",
        "\n",
        "Single color channel (B&W)\n",
        "\n",
        "Centered objects\n",
        "\n",
        "50000 training set members\n",
        "\n",
        "10000 test set members\n",
        "\n",
        "\n"
      ]
    },
    {
      "cell_type": "code",
      "metadata": {
        "id": "uAOpasbr3dpd",
        "colab_type": "code",
        "colab": {}
      },
      "source": [
        "'''\n",
        "# Fashion Class that enables the Dataset download and basic transformations\n",
        "class Fashion(datasets.FashionMNIST):\n",
        "    def __init__(self, root, train=True, transform=None, target_transform=None, download=False):\n",
        "        self.urls = [\n",
        "            'http://fashion-mnist.s3-website.eu-central-1.amazonaws.com/train-images-idx3-ubyte.gz',\n",
        "            'http://fashion-mnist.s3-website.eu-central-1.amazonaws.com/train-labels-idx1-ubyte.gz',\n",
        "            'http://fashion-mnist.s3-website.eu-central-1.amazonaws.com/t10k-images-idx3-ubyte.gz',\n",
        "            'http://fashion-mnist.s3-website.eu-central-1.amazonaws.com/t10k-labels-idx1-ubyte.gz',\n",
        "        ]\n",
        "        super(Fashion, self).__init__(\n",
        "                 root, train=train, transform=transform, target_transform=target_transform, download=download\n",
        "    )\n",
        "'''\n",
        "def decode_label(l):\n",
        "    return [\"Top\",\n",
        "     \"Trouser\",\n",
        "     \"Pullover\",\n",
        "     \"Dress\",\n",
        "     \"Coat\",\n",
        "     \"Sandal\",\n",
        "     \"Shirt\",\n",
        "     \"Sneaker\",\n",
        "     \"Bag\",\n",
        "     \"Ankle boot\"\n",
        "    ][l]"
      ],
      "execution_count": null,
      "outputs": []
    },
    {
      "cell_type": "code",
      "metadata": {
        "id": "yg0GJaFp36oj",
        "colab_type": "code",
        "colab": {}
      },
      "source": [
        "'''transform = transforms.Compose([transforms.ToTensor(),transforms.Normalize((0.1307,), (0.3081,))])\n",
        "train_data = Fashion('./data', train=True, download=True, transform=transform)\n",
        "test_data = Fashion('./data', train=False, download=True, transform=transform)\n",
        "'''\n",
        "\n",
        "#transform = transforms.ToTensor()\n",
        "transform = transforms.Compose([transforms.ToTensor(),transforms.Normalize((0.1307,), (0.3081,))])\n",
        "train_data = datasets.FashionMNIST('./data', train=True, download=True, transform=transform)\n",
        "test_data = datasets.FashionMNIST('./data', train=False, download=True, transform=transform)"
      ],
      "execution_count": null,
      "outputs": []
    },
    {
      "cell_type": "code",
      "metadata": {
        "id": "NtRgO2jF4LXp",
        "colab_type": "code",
        "colab": {
          "base_uri": "https://localhost:8080/",
          "height": 221
        },
        "outputId": "86fe6d2b-f08c-4aab-b780-5799ad05dd2d"
      },
      "source": [
        "X_train = train_data.data\n",
        "X_train = train_data.transform(X_train.numpy())\n",
        "print('[Train Data]')\n",
        "print(' - Numpy Shape:', X_train.cpu().numpy().shape)\n",
        "print(' - Tensor Shape:', X_train.size())\n",
        "print(' - min:', torch.min(X_train))\n",
        "print(' - max:', torch.max(X_train))\n",
        "print(' - mean:', torch.mean(X_train))\n",
        "print(' - std:', torch.std(X_train))\n",
        "print(' - var:', torch.var(X_train))\n",
        "\n",
        "print('\\n[Train Labels]')\n",
        "print(' - Numpy Shape:', train_data.targets.cpu().numpy().shape)\n",
        "print(' - Tensor Shape:', train_data.targets.size())"
      ],
      "execution_count": null,
      "outputs": [
        {
          "output_type": "stream",
          "text": [
            "[Train Data]\n",
            " - Numpy Shape: (28, 60000, 28)\n",
            " - Tensor Shape: torch.Size([28, 60000, 28])\n",
            " - min: tensor(-0.4242)\n",
            " - max: tensor(2.8215)\n",
            " - mean: tensor(0.5001)\n",
            " - std: tensor(1.1458)\n",
            " - var: tensor(1.3129)\n",
            "\n",
            "[Train Labels]\n",
            " - Numpy Shape: (60000,)\n",
            " - Tensor Shape: torch.Size([60000])\n"
          ],
          "name": "stdout"
        }
      ]
    },
    {
      "cell_type": "code",
      "metadata": {
        "id": "2LdtYlMq4UWC",
        "colab_type": "code",
        "colab": {
          "base_uri": "https://localhost:8080/",
          "height": 349
        },
        "outputId": "64d5b87e-899d-4dd7-e4d6-5b01397b9c65"
      },
      "source": [
        "idxs = np.random.randint(100, size=8)\n",
        "_,a = plt.subplots(2, 4, figsize=(15, 8))\n",
        "for i in range(8):\n",
        "    X = train_data.data[idxs[i]]\n",
        "    Y = train_data.targets[idxs[i]]\n",
        "    r, c = i // 4, i % 4\n",
        "    a[r][c].set_title(decode_label(Y))\n",
        "    a[r][c].axis('off')\n",
        "    a[r][c].imshow(X.numpy(),cmap='gray')\n",
        "plt.show()"
      ],
      "execution_count": null,
      "outputs": [
        {
          "output_type": "display_data",
          "data": {
            "image/png": "[encoded data removed]",
            "text/plain": [
              "<Figure size 1080x576 with 8 Axes>"
            ]
          },
          "metadata": {
            "tags": [],
            "needs_background": "light"
          }
        }
      ]
    },
    {
      "cell_type": "code",
      "metadata": {
        "id": "xF7CVggU4ctM",
        "colab_type": "code",
        "colab": {
          "base_uri": "https://localhost:8080/",
          "height": 102
        },
        "outputId": "af085acf-a833-4bcd-9cff-84a01b093676"
      },
      "source": [
        "class FashionModel(nn.Module):\n",
        "    def __init__(self):\n",
        "        super(FashionModel, self).__init__()\n",
        "        self.fc1 = nn.Linear(784, 64)\n",
        "        self.fc2 = nn.Linear(64, 32)\n",
        "        self.fc3 = nn.Linear(32, 10)\n",
        "    \n",
        "    def forward(self, x):\n",
        "        x = F.relu(self.fc1(x))\n",
        "        x = F.relu(self.fc2(x))\n",
        "        x = F.log_softmax(self.fc3(x),dim=1)\n",
        "        return x\n",
        "print(FashionModel())"
      ],
      "execution_count": null,
      "outputs": [
        {
          "output_type": "stream",
          "text": [
            "FashionModel(\n",
            "  (fc1): Linear(in_features=784, out_features=64, bias=True)\n",
            "  (fc2): Linear(in_features=64, out_features=32, bias=True)\n",
            "  (fc3): Linear(in_features=32, out_features=10, bias=True)\n",
            ")\n"
          ],
          "name": "stdout"
        }
      ]
    },
    {
      "cell_type": "code",
      "metadata": {
        "id": "T2_-RS4cGp8u",
        "colab_type": "code",
        "colab": {}
      },
      "source": [
        "class MyDataset(data.Dataset):\n",
        "    def __init__(self, X, Y):\n",
        "        self.X = X\n",
        "        self.Y = Y\n",
        "\n",
        "    def __len__(self):\n",
        "        return len(self.Y)\n",
        "\n",
        "    def __getitem__(self,index):\n",
        "        X = self.X[index].float().reshape(-1)\n",
        "        Y = self.Y[index].long()\n",
        "        return X,Y"
      ],
      "execution_count": null,
      "outputs": []
    },
    {
      "cell_type": "code",
      "metadata": {
        "id": "VAI61Wq64lzG",
        "colab_type": "code",
        "colab": {}
      },
      "source": [
        "'''\n",
        "train_dataset = MyDataset(train_data.data, train_data.targets)\n",
        "test_dataset = MyDataset(test_data.data, test_data.targets)\n",
        "                        \n",
        "trainloader = torch.utils.data.DataLoader(train_data, batch_size=64,\n",
        "                                          shuffle=True)\n",
        "testloader = torch.utils.data.DataLoader(test_data, batch_size=64,\n",
        "                                         shuffle=False, num_workers=2)\n",
        "test_size = len(test_data.data)\n",
        "train_size = len(train_data.data)\n",
        "'''\n",
        "'''\n",
        "train_size = int(0.8 * len(train_data.data))\n",
        "val_size = len(train_data.data) - train_size\n",
        "train_dataset = MyDataset(train_data.data, train_data.targets)\n",
        "train_dataset, val_dataset = torch.utils.data.random_split(train_dataset, [train_size, val_size])\n",
        "num_workers = 8\n",
        "test_size = len(test_data.data)\n",
        "batch_size = 100\n",
        "\n",
        "test_dataset = MyDataset(test_data.data, test_data.targets)\n",
        "\n",
        "train_loader_args = dict(shuffle=True, batch_size=256, num_workers=num_workers, pin_memory=True) if cuda\\\n",
        "                    else dict(shuffle=True, batch_size=batch_size)\n",
        "train_loader = data.DataLoader(train_dataset, **train_loader_args)\n",
        "\n",
        "val_loader_args = dict(shuffle=True, batch_size=256, num_workers=num_workers, pin_memory=True) if cuda\\\n",
        "                    else dict(shuffle=True, batch_size=64)\n",
        "val_loader = data.DataLoader(val_dataset, **val_loader_args)\n",
        "\n",
        "test_loader_args = dict(shuffle=False, batch_size=256, num_workers=num_workers, pin_memory=True) if cuda\\\n",
        "                    else dict(shuffle=False, batch_size=batch_size)\n",
        "test_loader = data.DataLoader(test_dataset, **test_loader_args)\n",
        "'''\n",
        "\n",
        "#Metric = namedtuple('Metric', ['loss', 'train_error', 'val_error'])\n",
        "\n",
        "\n",
        "train_size = train_data.data.shape[0]\n",
        "val_size, train_size = int(0.20 * train_size), int(0.80 * train_size) # 80 / 20 train-val split\n",
        "test_size = test_data.data.shape[0]\n",
        "batch_size = 100\n",
        "\n",
        "# Add dataset to dataloader that handles batching\n",
        "train_loader = torch.utils.data.DataLoader(train_data, \n",
        "                                            batch_size=batch_size,\n",
        "                                           sampler=torch.utils.data.sampler.SubsetRandomSampler(np.arange(val_size, val_size+train_size)))\n",
        "val_loader = torch.utils.data.DataLoader(train_data, \n",
        "                                           batch_size=batch_size, \n",
        "                                           sampler=torch.utils.data.sampler.SubsetRandomSampler(np.arange(0, val_size)))\n",
        "test_loader = torch.utils.data.DataLoader(test_data, batch_size=batch_size, shuffle=False)\n",
        "\n",
        "# Setup metric class\n",
        "Metric = namedtuple('Metric', ['Train_loss', 'Test_loss', 'Test_accuracy'])"
      ],
      "execution_count": null,
      "outputs": []
    },
    {
      "cell_type": "code",
      "metadata": {
        "id": "-eH_w9y45L0E",
        "colab_type": "code",
        "colab": {}
      },
      "source": [
        "device = torch.device(\"cuda\" if cuda else \"cpu\")\n",
        "def inference(model, loader, n_members):\n",
        "    with torch.no_grad():\n",
        "      model.to(device)\n",
        "      model.eval()\n",
        "      running_loss = 0.0\n",
        "      total_predictions = 0.0\n",
        "      correct_predictions = 0.0\n",
        "      for batch_idx, (data, target) in enumerate(loader):\n",
        "        data = data.to(device)\n",
        "        data = data.view(-1,784)\n",
        "        target = target.to(device)\n",
        "        outputs = model(data)\n",
        "        #predicted = torch.argmax(outputs,dim = 1)\n",
        "        _, predicted = torch.max(outputs.data, 1)\n",
        "        total_predictions += target.size(0)\n",
        "        correct_predictions += (predicted == target).sum().item()\n",
        "        criterion = nn.CrossEntropyLoss()\n",
        "        loss = criterion(outputs, target).detach()\n",
        "        running_loss += loss.item()\n",
        "      running_loss /= len(loader)\n",
        "      acc = (correct_predictions/total_predictions)*100.0\n",
        "      #print('Testing Loss: ', running_loss)\n",
        "      #print('Testing Accuracy: ', acc, '%')\n",
        "      return running_loss, acc\n",
        "      \n",
        "\n",
        "    \n",
        "    '''correct = 0\n",
        "    for data, label in loader:\n",
        "        X = Variable(data.view(-1, 784))\n",
        "        Y = Variable(label)\n",
        "        out = model(X)\n",
        "        pred = out.data.max(1, keepdim=True)[1]\n",
        "        predicted = pred.eq(Y.data.view_as(pred))\n",
        "        correct += predicted.sum()\n",
        "    return correct.numpy() / n_members'''\n"
      ],
      "execution_count": null,
      "outputs": []
    },
    {
      "cell_type": "code",
      "metadata": {
        "id": "VyeX4W_78laG",
        "colab_type": "code",
        "colab": {}
      },
      "source": [
        "class Trainer():\n",
        "    \"\"\" \n",
        "    A simple training cradle\n",
        "    \"\"\"\n",
        "    \n",
        "    def __init__(self, model, optimizer, load_path=None):\n",
        "        self.model = model\n",
        "        if load_path is not None:\n",
        "            self.model = torch.load(load_path)\n",
        "        self.optimizer = optimizer\n",
        "            \n",
        "    def save_model(self, path):\n",
        "        torch.save(self.model.state_dict(), path)\n",
        "\n",
        "    def run(self, epochs):\n",
        "\n",
        "        print(\"Start Training...\")\n",
        "        self.metrics = []\n",
        "        self.model.train()\n",
        "        self.model.to(device)\n",
        "        \n",
        "        running_loss = 0.0\n",
        "        start_time = time.time()\n",
        "        for e in range(n_epochs):     \n",
        "            \n",
        "        \n",
        "            running_loss = 0.0\n",
        "            start_time = time.time()\n",
        "            epoch_loss = 0\n",
        "            correct = 0\n",
        "            for batch_idx, (data, label) in enumerate(train_loader):\n",
        "                self.optimizer.zero_grad()\n",
        "                data = data.to(device)\n",
        "                label = label.to(device)\n",
        "                data = data.view(-1,784)\n",
        "                out = self.model(data)\n",
        "                outputs = self.model(data)\n",
        "                criterion = nn.CrossEntropyLoss()\n",
        "                loss = criterion(outputs, label)\n",
        "\n",
        "                running_loss += loss.item()\n",
        "                loss.backward()\n",
        "                self.optimizer.step()\n",
        "                epoch_loss += loss.item()\n",
        "            scheduler.step()\n",
        "            end_time = time.time()\n",
        "            running_loss /= len(train_loader)\n",
        "            total_loss = epoch_loss/train_size\n",
        "            #train_error = 1.0 - np.true_divide(correct,train_size)\n",
        "            #val_error = 1.0 - inference(self.model, val_loader, val_size)\n",
        "            test_loss, test_accuracy = inference(self.model, test_loader, test_size)\n",
        "            print(\"epoch: {0}, loss: {1:.8f}, Time: {2}s\".format(e+1, running_loss,end_time - start_time))\n",
        "            self.metrics.append(Metric(Train_loss=running_loss, \n",
        "                                  Test_loss=test_loss,\n",
        "                                  Test_accuracy=test_accuracy))"
      ],
      "execution_count": null,
      "outputs": []
    },
    {
      "cell_type": "code",
      "metadata": {
        "id": "ZeYXKqbcsB2x",
        "colab_type": "code",
        "colab": {}
      },
      "source": [
        "# A function to apply \"normal\" distribution on the parameters\n",
        "def init_randn(m):\n",
        "    if type(m) == nn.Linear:\n",
        "        m.weight.data.normal_(0,1)"
      ],
      "execution_count": null,
      "outputs": []
    },
    {
      "cell_type": "code",
      "metadata": {
        "id": "ISAtHdhosKvh",
        "colab_type": "code",
        "colab": {
          "base_uri": "https://localhost:8080/",
          "height": 102
        },
        "outputId": "3c5df292-d9ed-4966-c695-7393b15b419b"
      },
      "source": [
        "# We first initialize a Fashion Object and initialize the parameters \"normally\".\n",
        "normalmodel = FashionModel()\n",
        "normalmodel.to(device)\n",
        "normalmodel.apply(init_randn)"
      ],
      "execution_count": null,
      "outputs": [
        {
          "output_type": "execute_result",
          "data": {
            "text/plain": [
              "FashionModel(\n",
              "  (fc1): Linear(in_features=784, out_features=64, bias=True)\n",
              "  (fc2): Linear(in_features=64, out_features=32, bias=True)\n",
              "  (fc3): Linear(in_features=32, out_features=10, bias=True)\n",
              ")"
            ]
          },
          "metadata": {
            "tags": []
          },
          "execution_count": 114
        }
      ]
    },
    {
      "cell_type": "code",
      "metadata": {
        "id": "Do7q_tgZsgsu",
        "colab_type": "code",
        "colab": {}
      },
      "source": [
        "n_epochs = 5"
      ],
      "execution_count": null,
      "outputs": []
    },
    {
      "cell_type": "code",
      "metadata": {
        "id": "ibv79IYOsjzS",
        "colab_type": "code",
        "colab": {
          "base_uri": "https://localhost:8080/",
          "height": 476
        },
        "outputId": "6b8c7f5a-38ec-4e19-cd6f-bc1b90cf95b0"
      },
      "source": [
        "print(\"SGD OPTIMIZER\")\n",
        "SGDOptimizer = torch.optim.SGD(normalmodel.parameters(), lr=0.01)\n",
        "scheduler = torch.optim.lr_scheduler.StepLR(SGDOptimizer, step_size=4, gamma=0.1)\n",
        "sgd_trainer = Trainer(normalmodel, SGDOptimizer)\n",
        "sgd_trainer.run(n_epochs)\n",
        "sgd_trainer.save_model('./sgd_model.pt')\n",
        "print('')\n",
        "\n",
        "\n",
        "print(\"ADAM OPTIMIZER\")\n",
        "normalmodel = FashionModel()\n",
        "normalmodel.apply(init_randn)\n",
        "AdamOptimizer = torch.optim.Adam(normalmodel.parameters(), lr=0.01)\n",
        "scheduler = torch.optim.lr_scheduler.StepLR(AdamOptimizer, step_size=4, gamma=0.1)\n",
        "adam_trainer = Trainer(normalmodel, AdamOptimizer)\n",
        "adam_trainer.run(n_epochs)\n",
        "adam_trainer.save_model('./adam_model.pt')\n",
        "print('')\n",
        "\n",
        "\n",
        "print(\"RMSPROP OPTIMIZER\")\n",
        "normalmodel = FashionModel()\n",
        "normalmodel.apply(init_randn)\n",
        "RMSPropOptimizer = torch.optim.RMSprop(normalmodel.parameters(), lr=0.01)\n",
        "scheduler = torch.optim.lr_scheduler.StepLR(RMSPropOptimizer, step_size=4, gamma=0.1)\n",
        "rms_trainer = Trainer(normalmodel, RMSPropOptimizer)\n",
        "rms_trainer.run(n_epochs)\n",
        "rms_trainer.save_model('./rmsprop_model.pt')\n",
        "print('')\n",
        "\n",
        "\n",
        "### TEST ###\n",
        "model = FashionModel()\n",
        "model.load_state_dict(torch.load('./sgd_model.pt'))\n",
        "test_loss,test_acc = inference(model, test_loader, test_size)\n",
        "print(\"Test Loss of model optimizer with SGD: {0:.2f}  and Accuracy : {1:.2f}%\".format(test_loss,test_acc))\n",
        "\n",
        "model = FashionModel()\n",
        "model.load_state_dict(torch.load('./adam_model.pt'))\n",
        "test_loss,test_acc = inference(model, test_loader, test_size)\n",
        "print(\"Test Loss of model optimizer with Adam: {0:.2f}  and Accuracy : {1:.2f}%\".format(test_loss,test_acc))\n",
        "\n",
        "model = FashionModel()\n",
        "model.load_state_dict(torch.load('./rmsprop_model.pt'))\n",
        "test_loss,test_acc = inference(model, test_loader, test_size)\n",
        "print(\"Test Loss of model optimizer with RmsProp: {0:.2f}  and Accuracy : {1:.2f}%\".format(test_loss,test_acc))"
      ],
      "execution_count": null,
      "outputs": [
        {
          "output_type": "stream",
          "text": [
            "SGD OPTIMIZER\n",
            "Start Training...\n",
            "epoch: 1, loss: 16.93651532, Time: 8.250549554824829s\n",
            "epoch: 2, loss: 2.37950216, Time: 8.290734052658081s\n",
            "epoch: 3, loss: 2.04398628, Time: 8.078413963317871s\n",
            "epoch: 4, loss: 1.87972057, Time: 8.146986961364746s\n",
            "epoch: 5, loss: 1.72864437, Time: 8.07972502708435s\n",
            "\n",
            "ADAM OPTIMIZER\n",
            "Start Training...\n",
            "epoch: 1, loss: 13.77348419, Time: 8.492324829101562s\n",
            "epoch: 2, loss: 1.57057437, Time: 8.382810354232788s\n",
            "epoch: 3, loss: 1.17158313, Time: 8.480530500411987s\n",
            "epoch: 4, loss: 0.98934032, Time: 8.40772819519043s\n",
            "epoch: 5, loss: 0.86333218, Time: 8.462166786193848s\n",
            "\n",
            "RMSPROP OPTIMIZER\n",
            "Start Training...\n",
            "epoch: 1, loss: 27.88664131, Time: 8.393144130706787s\n",
            "epoch: 2, loss: 1.41324775, Time: 8.221570253372192s\n",
            "epoch: 3, loss: 1.09611174, Time: 8.351385116577148s\n",
            "epoch: 4, loss: 0.94518729, Time: 8.264972686767578s\n",
            "epoch: 5, loss: 0.72223281, Time: 8.310526609420776s\n",
            "\n",
            "Test Loss of model optimizer with SGD: 1.81  and Accuracy : 39.25%\n",
            "Test Loss of model optimizer with Adam: 0.96  and Accuracy : 66.10%\n",
            "Test Loss of model optimizer with RmsProp: 0.75  and Accuracy : 72.63%\n"
          ],
          "name": "stdout"
        }
      ]
    },
    {
      "cell_type": "code",
      "metadata": {
        "id": "9GOMhb26tXvk",
        "colab_type": "code",
        "colab": {
          "base_uri": "https://localhost:8080/",
          "height": 809
        },
        "outputId": "b98eb11b-8555-4fb1-aa77-84862028e2f2"
      },
      "source": [
        "### VISUALIZATION ###\n",
        "def training_plot(metrics):\n",
        "    plt.figure(1)\n",
        "    plt.plot([m.Train_loss for m in metrics], 'b')\n",
        "    plt.title('Training Loss')\n",
        "    plt.show()\n",
        "\n",
        "training_plot(sgd_trainer.metrics)\n",
        "training_plot(adam_trainer.metrics)\n",
        "training_plot(rms_trainer.metrics)\n"
      ],
      "execution_count": null,
      "outputs": [
        {
          "output_type": "display_data",
          "data": {
            "image/png": "[encoded data removed]",
            "text/plain": [
              "<Figure size 432x288 with 1 Axes>"
            ]
          },
          "metadata": {
            "tags": [],
            "needs_background": "light"
          }
        },
        {
          "output_type": "display_data",
          "data": {
            "image/png": "[encoded data removed]",
            "text/plain": [
              "<Figure size 432x288 with 1 Axes>"
            ]
          },
          "metadata": {
            "tags": [],
            "needs_background": "light"
          }
        },
        {
          "output_type": "display_data",
          "data": {
            "image/png": "[encoded data removed]",
            "text/plain": [
              "<Figure size 432x288 with 1 Axes>"
            ]
          },
          "metadata": {
            "tags": [],
            "needs_background": "light"
          }
        }
      ]
    },
    {
      "cell_type": "code",
      "metadata": {
        "id": "7tpiw_gmvXP6",
        "colab_type": "code",
        "colab": {}
      },
      "source": [
        "def init_randn(m):\n",
        "    if type(m) == nn.Linear:\n",
        "        m.weight.data.normal_(0,1)"
      ],
      "execution_count": null,
      "outputs": []
    },
    {
      "cell_type": "code",
      "metadata": {
        "id": "_lfrlYBy3k5W",
        "colab_type": "code",
        "colab": {
          "base_uri": "https://localhost:8080/",
          "height": 102
        },
        "outputId": "1724d7ce-1ec4-4034-cfae-b4eda6a9fbea"
      },
      "source": [
        "normalmodel = FashionModel()\n",
        "normalmodel.apply(init_randn)"
      ],
      "execution_count": null,
      "outputs": [
        {
          "output_type": "execute_result",
          "data": {
            "text/plain": [
              "FashionModel(\n",
              "  (fc1): Linear(in_features=784, out_features=64, bias=True)\n",
              "  (fc2): Linear(in_features=64, out_features=32, bias=True)\n",
              "  (fc3): Linear(in_features=32, out_features=10, bias=True)\n",
              ")"
            ]
          },
          "metadata": {
            "tags": []
          },
          "execution_count": 126
        }
      ]
    },
    {
      "cell_type": "code",
      "metadata": {
        "id": "Ruoz0ZGm3vYr",
        "colab_type": "code",
        "colab": {}
      },
      "source": [
        "def init_custom(m):\n",
        "    if type(m) == nn.Linear:\n",
        "        rw = torch.randn(m.weight.data.size())\n",
        "        m.weight.data.copy_(rw)"
      ],
      "execution_count": null,
      "outputs": []
    },
    {
      "cell_type": "code",
      "metadata": {
        "id": "OrEW_L774HTw",
        "colab_type": "code",
        "colab": {}
      },
      "source": [
        "def init_xavier(m):\n",
        "    if type(m) == nn.Linear:\n",
        "        fan_in = m.weight.size()[1]\n",
        "        fan_out = m.weight.size()[0]\n",
        "        std = np.sqrt(2.0 / (fan_in + fan_out))\n",
        "        m.weight.data.normal_(0,std)"
      ],
      "execution_count": null,
      "outputs": []
    },
    {
      "cell_type": "code",
      "metadata": {
        "id": "Zm5Y5aSl4_vs",
        "colab_type": "code",
        "colab": {
          "base_uri": "https://localhost:8080/",
          "height": 102
        },
        "outputId": "3d6669f9-28d0-44a9-e291-d0a0bb16bd02"
      },
      "source": [
        "xaviermodel = FashionModel()\n",
        "xaviermodel.apply(init_xavier)"
      ],
      "execution_count": null,
      "outputs": [
        {
          "output_type": "execute_result",
          "data": {
            "text/plain": [
              "FashionModel(\n",
              "  (fc1): Linear(in_features=784, out_features=64, bias=True)\n",
              "  (fc2): Linear(in_features=64, out_features=32, bias=True)\n",
              "  (fc3): Linear(in_features=32, out_features=10, bias=True)\n",
              ")"
            ]
          },
          "metadata": {
            "tags": []
          },
          "execution_count": 129
        }
      ]
    },
    {
      "cell_type": "code",
      "metadata": {
        "id": "FXExdOQH5AKY",
        "colab_type": "code",
        "colab": {
          "base_uri": "https://localhost:8080/",
          "height": 221
        },
        "outputId": "66503745-ee4d-4f28-a611-0355cf5c3b04"
      },
      "source": [
        "### LET'S TRAIN ###\n",
        "n_epochs = 3\n",
        "\n",
        "print(\"NORMAL INIT WEIGHTS\")\n",
        "AdamOptimizer = torch.optim.Adam(normalmodel.parameters(), lr=0.001)\n",
        "normal_trainer = Trainer(normalmodel, AdamOptimizer)\n",
        "normal_trainer.run(n_epochs)\n",
        "normal_trainer.save_model('./normal_model.pt')\n",
        "print('')\n",
        "\n",
        "\n",
        "print(\"XAVIER INIT WEIGHTS\")\n",
        "AdamOptimizer = torch.optim.Adam(xaviermodel.parameters(), lr=0.001)\n",
        "xavier_trainer = Trainer(xaviermodel, AdamOptimizer)\n",
        "xavier_trainer.run(n_epochs)\n",
        "xavier_trainer.save_model('./xavier_model.pt')\n",
        "print('')"
      ],
      "execution_count": null,
      "outputs": [
        {
          "output_type": "stream",
          "text": [
            "NORMAL INIT WEIGHTS\n",
            "Start Training...\n",
            "epoch: 1, loss: 132.09046592, Time: 8.569164276123047s\n",
            "epoch: 2, loss: 31.29398536, Time: 8.821670770645142s\n",
            "epoch: 3, loss: 17.14701278, Time: 8.73902940750122s\n",
            "\n",
            "XAVIER INIT WEIGHTS\n",
            "Start Training...\n",
            "epoch: 1, loss: 0.53625404, Time: 8.441307067871094s\n",
            "epoch: 2, loss: 0.38554745, Time: 8.297329187393188s\n",
            "epoch: 3, loss: 0.34526550, Time: 8.325016736984253s\n",
            "\n"
          ],
          "name": "stdout"
        }
      ]
    },
    {
      "cell_type": "code",
      "metadata": {
        "id": "6OkNa4vb6ajq",
        "colab_type": "code",
        "colab": {
          "base_uri": "https://localhost:8080/",
          "height": 545
        },
        "outputId": "81a0a04d-a759-4cc0-f6e1-4a28826db10b"
      },
      "source": [
        "### VISUALIZATION ###\n",
        "def training_plot(metrics):\n",
        "    plt.figure(1)\n",
        "    plt.plot([m.Train_loss for m in metrics], 'b')\n",
        "    plt.title('Training Loss')\n",
        "    plt.show()\n",
        "\n",
        "training_plot(normal_trainer.metrics)\n",
        "training_plot(xavier_trainer.metrics)"
      ],
      "execution_count": null,
      "outputs": [
        {
          "output_type": "display_data",
          "data": {
            "image/png": "[encoded data removed]",
            "text/plain": [
              "<Figure size 432x288 with 1 Axes>"
            ]
          },
          "metadata": {
            "tags": [],
            "needs_background": "light"
          }
        },
        {
          "output_type": "display_data",
          "data": {
            "image/png": "[encoded data removed]",
            "text/plain": [
              "<Figure size 432x288 with 1 Axes>"
            ]
          },
          "metadata": {
            "tags": [],
            "needs_background": "light"
          }
        }
      ]
    },
    {
      "cell_type": "code",
      "metadata": {
        "id": "y8qIOpxW7P60",
        "colab_type": "code",
        "colab": {}
      },
      "source": [
        "alexnet_model = models.alexnet(pretrained=True)"
      ],
      "execution_count": null,
      "outputs": []
    },
    {
      "cell_type": "code",
      "metadata": {
        "id": "kKyzUzLS7qTo",
        "colab_type": "code",
        "colab": {}
      },
      "source": [
        "class BatchNorm(nn.Module):\n",
        "\n",
        "    def __init__(self, num_features):\n",
        "        super(BatchNorm, self).__init__()\n",
        "        self.num_features = num_features\n",
        "        self.affine = affine\n",
        "        self.weight = Parameter(torch.Tensor(num_features))\n",
        "        self.bias = Parameter(torch.Tensor(num_features))\n",
        "        self.register_buffer('running_mean', torch.zeros(num_features))\n",
        "        self.register_buffer('running_var', torch.ones(num_features))\n",
        "        self.reset_parameters()\n",
        "\n",
        "    def reset_parameters(self):\n",
        "        self.running_mean.zero_()\n",
        "        self.running_var.fill_(1)\n",
        "        self.weight.data.uniform_()\n",
        "        self.bias.data.zero_()\n",
        "\n",
        "    def forward(self, x):\n",
        "        pass"
      ],
      "execution_count": null,
      "outputs": []
    },
    {
      "cell_type": "code",
      "metadata": {
        "id": "HW0OhGPj8IIR",
        "colab_type": "code",
        "colab": {
          "base_uri": "https://localhost:8080/",
          "height": 190
        },
        "outputId": "f660514f-5c45-47a9-fcb5-d5bac90f92d7"
      },
      "source": [
        "class FashionModel_Tricks(nn.Module):\n",
        "    \n",
        "    def __init__(self):\n",
        "        super(FashionModel_Tricks, self).__init__()\n",
        "        self.fc1 = nn.Linear(784, 64)\n",
        "        self.bnorm1 = nn.BatchNorm1d(64)\n",
        "        self.dp1 = nn.Dropout(p=0.2)\n",
        "        self.fc2 = nn.Linear(64, 32)\n",
        "        self.bnorm2 = nn.BatchNorm1d(32)\n",
        "        self.dp2 = nn.Dropout(p=0.1)\n",
        "        self.fc3 = nn.Linear(32, 10)\n",
        "    \n",
        "    def forward(self, x):\n",
        "        x = F.relu(self.fc1(x))\n",
        "        x = self.dp1(self.bnorm1(x))\n",
        "        x = F.relu(self.fc2(x))\n",
        "        x = self.dp2(self.bnorm2(x))\n",
        "        x = F.log_softmax(self.fc3(x))\n",
        "        return x\n",
        "print(FashionModel_Tricks())"
      ],
      "execution_count": null,
      "outputs": [
        {
          "output_type": "stream",
          "text": [
            "FashionModel_Tricks(\n",
            "  (fc1): Linear(in_features=784, out_features=64, bias=True)\n",
            "  (bnorm1): BatchNorm1d(64, eps=1e-05, momentum=0.1, affine=True, track_running_stats=True)\n",
            "  (dp1): Dropout(p=0.2, inplace=False)\n",
            "  (fc2): Linear(in_features=64, out_features=32, bias=True)\n",
            "  (bnorm2): BatchNorm1d(32, eps=1e-05, momentum=0.1, affine=True, track_running_stats=True)\n",
            "  (dp2): Dropout(p=0.1, inplace=False)\n",
            "  (fc3): Linear(in_features=32, out_features=10, bias=True)\n",
            ")\n"
          ],
          "name": "stdout"
        }
      ]
    },
    {
      "cell_type": "code",
      "metadata": {
        "id": "H7J4dLih9NsQ",
        "colab_type": "code",
        "colab": {
          "base_uri": "https://localhost:8080/",
          "height": 522
        },
        "outputId": "9d6f7a80-a45d-459b-e7d4-73b28dafc21a"
      },
      "source": [
        "### TRAIN MODELS WITH BATCHNORM AND DROPOUT ###\n",
        "n_epochs = 10\n",
        "\n",
        "model = FashionModel_Tricks()\n",
        "optimizer = torch.optim.SGD(model.parameters(), lr = 0.001, momentum = 0.9, weight_decay = 0.001)\n",
        "btrainer = Trainer(model, optimizer)\n",
        "btrainer.run(n_epochs)\n",
        "btrainer.save_model('./dropout-batchnorm_optimized_model.pt')\n",
        "\n",
        "training_plot(btrainer.metrics)\n",
        "\n",
        "print('')"
      ],
      "execution_count": null,
      "outputs": [
        {
          "output_type": "stream",
          "text": [
            "Start Training...\n"
          ],
          "name": "stdout"
        },
        {
          "output_type": "stream",
          "text": [
            "/usr/local/lib/python3.6/dist-packages/ipykernel_launcher.py:18: UserWarning: Implicit dimension choice for log_softmax has been deprecated. Change the call to include dim=X as an argument.\n"
          ],
          "name": "stderr"
        },
        {
          "output_type": "stream",
          "text": [
            "epoch: 1, loss: 0.89291437, Time: 9.398805379867554s\n",
            "epoch: 2, loss: 0.44631836, Time: 8.62048077583313s\n",
            "epoch: 3, loss: 0.39093523, Time: 11.91435956954956s\n",
            "epoch: 4, loss: 0.36045060, Time: 8.497564315795898s\n",
            "epoch: 5, loss: 0.34362725, Time: 8.507379293441772s\n",
            "epoch: 6, loss: 0.33002892, Time: 8.632154941558838s\n",
            "epoch: 7, loss: 0.31792234, Time: 8.55519962310791s\n",
            "epoch: 8, loss: 0.30569105, Time: 8.457276821136475s\n",
            "epoch: 9, loss: 0.30008908, Time: 8.65641188621521s\n",
            "epoch: 10, loss: 0.29170487, Time: 8.533376216888428s\n"
          ],
          "name": "stdout"
        },
        {
          "output_type": "display_data",
          "data": {
            "image/png": "[encoded data removed]",
            "text/plain": [
              "<Figure size 432x288 with 1 Axes>"
            ]
          },
          "metadata": {
            "tags": [],
            "needs_background": "light"
          }
        },
        {
          "output_type": "stream",
          "text": [
            "\n"
          ],
          "name": "stdout"
        }
      ]
    },
    {
      "cell_type": "code",
      "metadata": {
        "id": "Sdy7rVOL9Zbr",
        "colab_type": "code",
        "colab": {
          "base_uri": "https://localhost:8080/",
          "height": 88
        },
        "outputId": "758e324a-6704-4883-be24-3ff0ec0b84a1"
      },
      "source": [
        "torch.nn.utils.clip_grad_norm(model.parameters(), 0.25)"
      ],
      "execution_count": null,
      "outputs": [
        {
          "output_type": "stream",
          "text": [
            "/usr/local/lib/python3.6/dist-packages/ipykernel_launcher.py:1: UserWarning: torch.nn.utils.clip_grad_norm is now deprecated in favor of torch.nn.utils.clip_grad_norm_.\n",
            "  \"\"\"Entry point for launching an IPython kernel.\n"
          ],
          "name": "stderr"
        },
        {
          "output_type": "execute_result",
          "data": {
            "text/plain": [
              "tensor(3.2324)"
            ]
          },
          "metadata": {
            "tags": []
          },
          "execution_count": 108
        }
      ]
    },
    {
      "cell_type": "code",
      "metadata": {
        "id": "eJK-qQ2h9rim",
        "colab_type": "code",
        "colab": {}
      },
      "source": [
        "def step_decay(epoch):\n",
        "    initial_lrate = 0.1\n",
        "    drop = 0.5\n",
        "    epochs_drop = 10.0\n",
        "    lrate = initial_lrate * math.pow(drop,  \n",
        "           math.floor((1+epoch)/epochs_drop))\n",
        "    return lrate"
      ],
      "execution_count": null,
      "outputs": []
    },
    {
      "cell_type": "code",
      "metadata": {
        "id": "DxdG_PPo-HSo",
        "colab_type": "code",
        "colab": {}
      },
      "source": [
        ""
      ],
      "execution_count": null,
      "outputs": []
    }
  ]
}