{
  "nbformat": 4,
  "nbformat_minor": 0,
  "metadata": {
    "colab": {
      "name": "Cipher10_pytorch.ipynb",
      "provenance": [],
      "collapsed_sections": []
    },
    "kernelspec": {
      "name": "python3",
      "display_name": "Python 3"
    },
    "widgets": {
      "application/vnd.jupyter.widget-state+json": {
        "ca7213685f7545349671c640d8cca047": {
          "model_module": "@jupyter-widgets/controls",
          "model_name": "HBoxModel",
          "state": {
            "_view_name": "HBoxView",
            "_dom_classes": [],
            "_model_name": "HBoxModel",
            "_view_module": "@jupyter-widgets/controls",
            "_model_module_version": "1.5.0",
            "_view_count": null,
            "_view_module_version": "1.5.0",
            "box_style": "",
            "layout": "IPY_MODEL_538ee1790b874c4b865a8f5452ab9ed7",
            "_model_module": "@jupyter-widgets/controls",
            "children": [
              "IPY_MODEL_fb931f8d44ac419e8e3d930102e53085",
              "IPY_MODEL_29ee3202465b4418bcb2ccc5dfafa66c"
            ]
          }
        },
        "538ee1790b874c4b865a8f5452ab9ed7": {
          "model_module": "@jupyter-widgets/base",
          "model_name": "LayoutModel",
          "state": {
            "_view_name": "LayoutView",
            "grid_template_rows": null,
            "right": null,
            "justify_content": null,
            "_view_module": "@jupyter-widgets/base",
            "overflow": null,
            "_model_module_version": "1.2.0",
            "_view_count": null,
            "flex_flow": null,
            "width": null,
            "min_width": null,
            "border": null,
            "align_items": null,
            "bottom": null,
            "_model_module": "@jupyter-widgets/base",
            "top": null,
            "grid_column": null,
            "overflow_y": null,
            "overflow_x": null,
            "grid_auto_flow": null,
            "grid_area": null,
            "grid_template_columns": null,
            "flex": null,
            "_model_name": "LayoutModel",
            "justify_items": null,
            "grid_row": null,
            "max_height": null,
            "align_content": null,
            "visibility": null,
            "align_self": null,
            "height": null,
            "min_height": null,
            "padding": null,
            "grid_auto_rows": null,
            "grid_gap": null,
            "max_width": null,
            "order": null,
            "_view_module_version": "1.2.0",
            "grid_template_areas": null,
            "object_position": null,
            "object_fit": null,
            "grid_auto_columns": null,
            "margin": null,
            "display": null,
            "left": null
          }
        },
        "fb931f8d44ac419e8e3d930102e53085": {
          "model_module": "@jupyter-widgets/controls",
          "model_name": "FloatProgressModel",
          "state": {
            "_view_name": "ProgressView",
            "style": "IPY_MODEL_e8a02a62a34d49da864b3cf5f7b9d059",
            "_dom_classes": [],
            "description": "",
            "_model_name": "FloatProgressModel",
            "bar_style": "success",
            "max": 1,
            "_view_module": "@jupyter-widgets/controls",
            "_model_module_version": "1.5.0",
            "value": 1,
            "_view_count": null,
            "_view_module_version": "1.5.0",
            "orientation": "horizontal",
            "min": 0,
            "description_tooltip": null,
            "_model_module": "@jupyter-widgets/controls",
            "layout": "IPY_MODEL_2591ed98006e473586763bfb1d208c9c"
          }
        },
        "29ee3202465b4418bcb2ccc5dfafa66c": {
          "model_module": "@jupyter-widgets/controls",
          "model_name": "HTMLModel",
          "state": {
            "_view_name": "HTMLView",
            "style": "IPY_MODEL_888eb003bde9443b81f0c6a99a683175",
            "_dom_classes": [],
            "description": "",
            "_model_name": "HTMLModel",
            "placeholder": "​",
            "_view_module": "@jupyter-widgets/controls",
            "_model_module_version": "1.5.0",
            "value": " 170500096/? [00:07&lt;00:00, 22111164.57it/s]",
            "_view_count": null,
            "_view_module_version": "1.5.0",
            "description_tooltip": null,
            "_model_module": "@jupyter-widgets/controls",
            "layout": "IPY_MODEL_6093dac041f64a14aab0807311a4e29b"
          }
        },
        "e8a02a62a34d49da864b3cf5f7b9d059": {
          "model_module": "@jupyter-widgets/controls",
          "model_name": "ProgressStyleModel",
          "state": {
            "_view_name": "StyleView",
            "_model_name": "ProgressStyleModel",
            "description_width": "initial",
            "_view_module": "@jupyter-widgets/base",
            "_model_module_version": "1.5.0",
            "_view_count": null,
            "_view_module_version": "1.2.0",
            "bar_color": null,
            "_model_module": "@jupyter-widgets/controls"
          }
        },
        "2591ed98006e473586763bfb1d208c9c": {
          "model_module": "@jupyter-widgets/base",
          "model_name": "LayoutModel",
          "state": {
            "_view_name": "LayoutView",
            "grid_template_rows": null,
            "right": null,
            "justify_content": null,
            "_view_module": "@jupyter-widgets/base",
            "overflow": null,
            "_model_module_version": "1.2.0",
            "_view_count": null,
            "flex_flow": null,
            "width": null,
            "min_width": null,
            "border": null,
            "align_items": null,
            "bottom": null,
            "_model_module": "@jupyter-widgets/base",
            "top": null,
            "grid_column": null,
            "overflow_y": null,
            "overflow_x": null,
            "grid_auto_flow": null,
            "grid_area": null,
            "grid_template_columns": null,
            "flex": null,
            "_model_name": "LayoutModel",
            "justify_items": null,
            "grid_row": null,
            "max_height": null,
            "align_content": null,
            "visibility": null,
            "align_self": null,
            "height": null,
            "min_height": null,
            "padding": null,
            "grid_auto_rows": null,
            "grid_gap": null,
            "max_width": null,
            "order": null,
            "_view_module_version": "1.2.0",
            "grid_template_areas": null,
            "object_position": null,
            "object_fit": null,
            "grid_auto_columns": null,
            "margin": null,
            "display": null,
            "left": null
          }
        },
        "888eb003bde9443b81f0c6a99a683175": {
          "model_module": "@jupyter-widgets/controls",
          "model_name": "DescriptionStyleModel",
          "state": {
            "_view_name": "StyleView",
            "_model_name": "DescriptionStyleModel",
            "description_width": "",
            "_view_module": "@jupyter-widgets/base",
            "_model_module_version": "1.5.0",
            "_view_count": null,
            "_view_module_version": "1.2.0",
            "_model_module": "@jupyter-widgets/controls"
          }
        },
        "6093dac041f64a14aab0807311a4e29b": {
          "model_module": "@jupyter-widgets/base",
          "model_name": "LayoutModel",
          "state": {
            "_view_name": "LayoutView",
            "grid_template_rows": null,
            "right": null,
            "justify_content": null,
            "_view_module": "@jupyter-widgets/base",
            "overflow": null,
            "_model_module_version": "1.2.0",
            "_view_count": null,
            "flex_flow": null,
            "width": null,
            "min_width": null,
            "border": null,
            "align_items": null,
            "bottom": null,
            "_model_module": "@jupyter-widgets/base",
            "top": null,
            "grid_column": null,
            "overflow_y": null,
            "overflow_x": null,
            "grid_auto_flow": null,
            "grid_area": null,
            "grid_template_columns": null,
            "flex": null,
            "_model_name": "LayoutModel",
            "justify_items": null,
            "grid_row": null,
            "max_height": null,
            "align_content": null,
            "visibility": null,
            "align_self": null,
            "height": null,
            "min_height": null,
            "padding": null,
            "grid_auto_rows": null,
            "grid_gap": null,
            "max_width": null,
            "order": null,
            "_view_module_version": "1.2.0",
            "grid_template_areas": null,
            "object_position": null,
            "object_fit": null,
            "grid_auto_columns": null,
            "margin": null,
            "display": null,
            "left": null
          }
        }
      }
    }
  },
  "cells": [
    {
      "cell_type": "code",
      "metadata": {
        "id": "vz2SETanUWIj",
        "colab_type": "code",
        "colab": {
          "base_uri": "https://localhost:8080/",
          "height": 34
        },
        "outputId": "58734b2e-6180-4d99-a02e-07d02945e250"
      },
      "source": [
        "import numpy as np\n",
        "import torch\n",
        "import sys\n",
        "import torch.nn as nn\n",
        "import torch.nn.functional as F\n",
        "import torch.optim as optim\n",
        "\n",
        "from torch.utils import data\n",
        "from torchvision import transforms\n",
        "from torchvision.datasets import CIFAR10\n",
        "import torchvision\n",
        "import matplotlib.pyplot as plt\n",
        "import time\n",
        "from collections import namedtuple\n",
        "\n",
        "from torchvision import transforms, datasets, models\n",
        "\n",
        "cuda = torch.cuda.is_available()\n",
        "cuda"
      ],
      "execution_count": null,
      "outputs": [
        {
          "output_type": "execute_result",
          "data": {
            "text/plain": [
              "True"
            ]
          },
          "metadata": {
            "tags": []
          },
          "execution_count": 2
        }
      ]
    },
    {
      "cell_type": "code",
      "metadata": {
        "id": "5TfsURSPUeyz",
        "colab_type": "code",
        "colab": {
          "base_uri": "https://localhost:8080/",
          "height": 120,
          "referenced_widgets": [
            "ca7213685f7545349671c640d8cca047",
            "538ee1790b874c4b865a8f5452ab9ed7",
            "fb931f8d44ac419e8e3d930102e53085",
            "29ee3202465b4418bcb2ccc5dfafa66c",
            "e8a02a62a34d49da864b3cf5f7b9d059",
            "2591ed98006e473586763bfb1d208c9c",
            "888eb003bde9443b81f0c6a99a683175",
            "6093dac041f64a14aab0807311a4e29b"
          ]
        },
        "outputId": "3ced0af7-d67a-455f-870f-8761ad88f16b"
      },
      "source": [
        "transform = transforms.Compose(\n",
        "    [transforms.ToTensor(),\n",
        "     transforms.Normalize((0.5, 0.5, 0.5), (0.5, 0.5, 0.5))])  #normalize to -1,1\n",
        "trainset = CIFAR10(root='./data', train=True,\n",
        "                                        download=True, transform=transform)\n",
        "trainloader = data.DataLoader(trainset, batch_size=64,\n",
        "                                          shuffle=True)\n",
        "\n",
        "testset = CIFAR10(root='./data', train=False,\n",
        "                                       download=True, transform=transform)\n",
        "testloader = data.DataLoader(testset, batch_size=64,\n",
        "                                         shuffle=False)\n",
        "\n",
        "classes = ('plane', 'car', 'bird', 'cat',\n",
        "           'deer', 'dog', 'frog', 'horse', 'ship', 'truck')"
      ],
      "execution_count": null,
      "outputs": [
        {
          "output_type": "stream",
          "text": [
            "Downloading https://www.cs.toronto.edu/~kriz/cifar-10-python.tar.gz to ./data/cifar-10-python.tar.gz\n"
          ],
          "name": "stdout"
        },
        {
          "output_type": "display_data",
          "data": {
            "application/vnd.jupyter.widget-view+json": {
              "model_id": "ca7213685f7545349671c640d8cca047",
              "version_minor": 0,
              "version_major": 2
            },
            "text/plain": [
              "HBox(children=(FloatProgress(value=1.0, bar_style='info', max=1.0), HTML(value='')))"
            ]
          },
          "metadata": {
            "tags": []
          }
        },
        {
          "output_type": "stream",
          "text": [
            "Extracting ./data/cifar-10-python.tar.gz to ./data\n",
            "Files already downloaded and verified\n"
          ],
          "name": "stdout"
        }
      ]
    },
    {
      "cell_type": "code",
      "metadata": {
        "id": "0If1_hBBZNYJ",
        "colab_type": "code",
        "colab": {
          "base_uri": "https://localhost:8080/",
          "height": 317
        },
        "outputId": "473a326a-0e48-4a2f-a308-52152f387f67"
      },
      "source": [
        "dataiter = iter(trainloader)\n",
        "images, labels = dataiter.next()\n",
        "img = images[0].numpy ()\n",
        "img = img / 2 + 0.5    ## normalization img * std + mean\n",
        "img = np.transpose(img, (1, 2, 0)) ## change permutation of trnsprose \n",
        "                                    ## second, third , first dim\n",
        "print(img.shape)\n",
        "plt.imshow(img)\n",
        "print(classes[labels[0]])"
      ],
      "execution_count": null,
      "outputs": [
        {
          "output_type": "stream",
          "text": [
            "(32, 32, 3)\n",
            "bird\n"
          ],
          "name": "stdout"
        },
        {
          "output_type": "display_data",
          "data": {
            "image/png": "[encoded data removed]",
            "text/plain": [
              "<Figure size 432x288 with 1 Axes>"
            ]
          },
          "metadata": {
            "tags": [],
            "needs_background": "light"
          }
        },
        {
          "output_type": "stream",
          "text": [
            "\n"
          ],
          "name": "stdout"
        }
      ]
    },
    {
      "cell_type": "code",
      "metadata": {
        "id": "fXwgK0uuZUPW",
        "colab_type": "code",
        "colab": {
          "base_uri": "https://localhost:8080/",
          "height": 155
        },
        "outputId": "d0d60c04-abbf-41fe-cdae-7b102e4948da"
      },
      "source": [
        "def imshow(img):\n",
        "    img = img / 2 + 0.5     # unnormalize\n",
        "    npimg = img.numpy()\n",
        "    plt.imshow(np.transpose(npimg, (1, 2, 0)))\n",
        "    plt.show()\n",
        "\n",
        "\n",
        "# get some random training images\n",
        "dataiter = iter(trainloader)\n",
        "images, labels = dataiter.next()\n",
        "\n",
        "# show images\n",
        "imshow(torchvision.utils.make_grid(images[0:4]))\n",
        "# print labels\n",
        "print(' '.join('%10s' % classes[labels[j]] for j in range(4)))"
      ],
      "execution_count": null,
      "outputs": [
        {
          "output_type": "display_data",
          "data": {
            "image/png": "[encoded data removed]",
            "text/plain": [
              "<Figure size 432x288 with 1 Axes>"
            ]
          },
          "metadata": {
            "tags": [],
            "needs_background": "light"
          }
        },
        {
          "output_type": "stream",
          "text": [
            "       cat      truck       deer      truck\n"
          ],
          "name": "stdout"
        }
      ]
    },
    {
      "cell_type": "markdown",
      "metadata": {
        "id": "GcKjg5o7jMGA",
        "colab_type": "text"
      },
      "source": [
        "Same model as MNIST to show why fails\n"
      ]
    },
    {
      "cell_type": "code",
      "metadata": {
        "id": "UfpSvs6Yixdo",
        "colab_type": "code",
        "colab": {}
      },
      "source": [
        "#Defining a Simple MLP model\n",
        "class MyModel(nn.Module):\n",
        "  def __init__(self,size_list):\n",
        "    super(MyModel, self).__init__()\n",
        "    self.size_list = size_list\n",
        "    layers = []\n",
        "    for i in range(len(size_list)-2):\n",
        "      layers.append(nn.Linear(size_list[i],size_list[i+1]))\n",
        "      layers.append(nn.ReLU())\n",
        "      layers.append(nn.Dropout())\n",
        "    layers.append(nn.Linear(size_list[-2],size_list[-1]))\n",
        "    self.net = nn.Sequential(*layers)\n",
        "    # self.layers  = nn.ModuleList(self.layers)\n",
        "  \n",
        "  def forward(self,x):\n",
        "    return self.net(x.float())"
      ],
      "execution_count": null,
      "outputs": []
    },
    {
      "cell_type": "code",
      "metadata": {
        "id": "HEbNExOajR2s",
        "colab_type": "code",
        "colab": {}
      },
      "source": [
        "##Creating own dataset example\n",
        "class MyDataset(data.Dataset):\n",
        "    def __init__(self, X, Y):\n",
        "        self.X = X\n",
        "        self.Y = Y\n",
        "\n",
        "    def __len__(self):\n",
        "        return len(self.Y)\n",
        "\n",
        "    def __getitem__(self,index):\n",
        "        X = self.X[index].astype(float).reshape(-1)\n",
        "        Y = self.Y[index]\n",
        "        return X,Y"
      ],
      "execution_count": null,
      "outputs": []
    },
    {
      "cell_type": "code",
      "metadata": {
        "id": "Anl2CigWv3Fx",
        "colab_type": "code",
        "colab": {}
      },
      "source": [
        "train_dataset = MyDataset(trainset.data, trainset.targets)\n",
        "test_dataset = MyDataset(testset.data, testset.targets)\n",
        "\n",
        "train_loader_args = dict(shuffle=True, batch_size=256, pin_memory=True) if cuda\\\n",
        "                    else dict(shuffle=True, batch_size=64)\n",
        "train_loader = data.DataLoader(train_dataset, **train_loader_args)\n",
        "\n",
        "test_loader_args = dict(shuffle=False, batch_size=256, pin_memory=True) if cuda\\\n",
        "                    else dict(shuffle=False, batch_size=1)\n",
        "test_loader = data.DataLoader(test_dataset, **test_loader_args)\n"
      ],
      "execution_count": null,
      "outputs": []
    },
    {
      "cell_type": "code",
      "metadata": {
        "id": "B-xsPV23wcbR",
        "colab_type": "code",
        "colab": {
          "base_uri": "https://localhost:8080/",
          "height": 255
        },
        "outputId": "2c8f41a3-a4be-41cb-f392-db5dff89d116"
      },
      "source": [
        "model = MyModel([3072,256,128,64,10])\n",
        "\n",
        "criterion = nn.CrossEntropyLoss()\n",
        "optimizer = optim.Adam(model.parameters())\n",
        "device = torch.device(\"cuda\" if cuda else \"cpu\")\n",
        "model.to(device)\n",
        "print(model)"
      ],
      "execution_count": null,
      "outputs": [
        {
          "output_type": "stream",
          "text": [
            "MyModel(\n",
            "  (net): Sequential(\n",
            "    (0): Linear(in_features=3072, out_features=256, bias=True)\n",
            "    (1): ReLU()\n",
            "    (2): Dropout(p=0.5, inplace=False)\n",
            "    (3): Linear(in_features=256, out_features=128, bias=True)\n",
            "    (4): ReLU()\n",
            "    (5): Dropout(p=0.5, inplace=False)\n",
            "    (6): Linear(in_features=128, out_features=64, bias=True)\n",
            "    (7): ReLU()\n",
            "    (8): Dropout(p=0.5, inplace=False)\n",
            "    (9): Linear(in_features=64, out_features=10, bias=True)\n",
            "  )\n",
            ")\n"
          ],
          "name": "stdout"
        }
      ]
    },
    {
      "cell_type": "code",
      "metadata": {
        "id": "FrrRo8OHyF1l",
        "colab_type": "code",
        "colab": {}
      },
      "source": [
        "def train_epoch(model,train_loader,criterion,optimizer):\n",
        "  model.train()\n",
        "  running_loss = 0.0\n",
        "  start_time = time.time()\n",
        "  for batch_idx, (data, target) in enumerate(train_loader):   \n",
        "        optimizer.zero_grad()   # .backward() accumulates gradients\n",
        "        data = data.to(device)\n",
        "        target = target.to(device) # all data & model on same device\n",
        "\n",
        "        outputs = model(data)\n",
        "        loss = criterion(outputs, target)\n",
        "        running_loss += loss.item()\n",
        "\n",
        "        loss.backward()\n",
        "        optimizer.step()\n",
        "    \n",
        "  end_time = time.time()\n",
        "  running_loss /= len(train_loader)\n",
        "  print('Training Loss: ', running_loss, 'Time: ',end_time - start_time, 's')\n",
        "  return running_loss\n",
        "  "
      ],
      "execution_count": null,
      "outputs": []
    },
    {
      "cell_type": "code",
      "metadata": {
        "id": "p7Hi0WOBySnn",
        "colab_type": "code",
        "colab": {}
      },
      "source": [
        "def test_model(model, test_loader, criterion):\n",
        "    with torch.no_grad():\n",
        "        model.eval()\n",
        "        running_loss = 0.0\n",
        "        total_predictions = 0.0\n",
        "        correct_predictions = 0.0\n",
        "\n",
        "        for batch_idx, (data, target) in enumerate(test_loader):   \n",
        "            data = data.to(device)\n",
        "            target = target.to(device)\n",
        "            \n",
        "            outputs = model(data)\n",
        "            #_, predicted = torch.max(outputs, 1)\n",
        "            #_, predicted = torch.max(outputs.data, 1)\n",
        "            predicted = torch.argmax(outputs,dim = 1)\n",
        "\n",
        "            total_predictions += target.size(0)\n",
        "            correct_predictions += (predicted == target).sum().item()\n",
        "            loss = criterion(outputs, target).detach()\n",
        "            running_loss += loss.item()\n",
        "\n",
        "\n",
        "        running_loss /= len(test_loader)\n",
        "        acc = (correct_predictions/total_predictions)*100.0\n",
        "        print('Testing Loss: ', running_loss)\n",
        "        print('Testing Accuracy: ', acc, '%')\n",
        "        return running_loss, acc"
      ],
      "execution_count": null,
      "outputs": []
    },
    {
      "cell_type": "code",
      "metadata": {
        "id": "QEh-hBEWyqvz",
        "colab_type": "code",
        "colab": {
          "base_uri": "https://localhost:8080/",
          "height": 1000
        },
        "outputId": "34527c1e-da3e-404b-b7c1-5c9ae60bb835"
      },
      "source": [
        "n_epochs = 15\n",
        "Train_loss = []\n",
        "Test_loss = []\n",
        "Test_acc = []\n",
        "\n",
        "for i in range(n_epochs):\n",
        "    train_loss = train_epoch(model, train_loader, criterion, optimizer)\n",
        "    test_loss, test_acc = test_model(model, test_loader, criterion)\n",
        "    Train_loss.append(train_loss)\n",
        "    Test_loss.append(test_loss)\n",
        "    Test_acc.append(test_acc)\n",
        "    print('='*20)"
      ],
      "execution_count": null,
      "outputs": [
        {
          "output_type": "stream",
          "text": [
            "Training Loss:  3.6573377409759833 Time:  1.927692174911499 s\n",
            "Testing Loss:  2.302954024076462\n",
            "Testing Accuracy:  10.0 %\n",
            "====================\n",
            "Training Loss:  2.3029813924614264 Time:  1.5928914546966553 s\n",
            "Testing Loss:  2.302621233463287\n",
            "Testing Accuracy:  10.0 %\n",
            "====================\n",
            "Training Loss:  2.3028185841988544 Time:  1.610769510269165 s\n",
            "Testing Loss:  2.302607703208923\n",
            "Testing Accuracy:  9.99 %\n",
            "====================\n",
            "Training Loss:  2.3027733807661095 Time:  1.5753650665283203 s\n",
            "Testing Loss:  2.3026321113109587\n",
            "Testing Accuracy:  10.0 %\n",
            "====================\n",
            "Training Loss:  2.3027874243502713 Time:  1.568119764328003 s\n",
            "Testing Loss:  2.302591395378113\n",
            "Testing Accuracy:  10.0 %\n",
            "====================\n",
            "Training Loss:  2.3026817526136125 Time:  1.78926420211792 s\n",
            "Testing Loss:  2.3025951087474823\n",
            "Testing Accuracy:  10.0 %\n",
            "====================\n",
            "Training Loss:  2.302739464506811 Time:  1.6461181640625 s\n",
            "Testing Loss:  2.302552378177643\n",
            "Testing Accuracy:  10.0 %\n",
            "====================\n",
            "Training Loss:  2.3027468798111896 Time:  1.6544511318206787 s\n",
            "Testing Loss:  2.302536869049072\n",
            "Testing Accuracy:  10.0 %\n",
            "====================\n",
            "Training Loss:  2.3027230975579243 Time:  1.568617582321167 s\n",
            "Testing Loss:  2.302607464790344\n",
            "Testing Accuracy:  10.0 %\n",
            "====================\n",
            "Training Loss:  2.302745040582151 Time:  1.5692274570465088 s\n",
            "Testing Loss:  2.3025920569896696\n",
            "Testing Accuracy:  10.0 %\n",
            "====================\n",
            "Training Loss:  2.302680938827748 Time:  1.7020142078399658 s\n",
            "Testing Loss:  2.302606153488159\n",
            "Testing Accuracy:  10.0 %\n",
            "====================\n",
            "Training Loss:  2.3027392443345516 Time:  1.5968282222747803 s\n",
            "Testing Loss:  2.3026314318180083\n",
            "Testing Accuracy:  10.0 %\n",
            "====================\n",
            "Training Loss:  2.3027178012594884 Time:  1.615103006362915 s\n",
            "Testing Loss:  2.30261025428772\n",
            "Testing Accuracy:  10.0 %\n",
            "====================\n",
            "Training Loss:  2.302682548153157 Time:  1.6220338344573975 s\n",
            "Testing Loss:  2.3025790393352508\n",
            "Testing Accuracy:  10.0 %\n",
            "====================\n",
            "Training Loss:  2.3026955237193985 Time:  1.6018037796020508 s\n",
            "Testing Loss:  2.3025780081748963\n",
            "Testing Accuracy:  10.0 %\n",
            "====================\n"
          ],
          "name": "stdout"
        }
      ]
    },
    {
      "cell_type": "code",
      "metadata": {
        "id": "FRG3x8-gy06J",
        "colab_type": "code",
        "colab": {
          "base_uri": "https://localhost:8080/",
          "height": 312
        },
        "outputId": "aba9718f-600e-4bc2-d404-10417dbfdc8e"
      },
      "source": [
        "plt.title('Training Loss')\n",
        "plt.xlabel('Epoch Number')\n",
        "plt.ylabel('Loss')\n",
        "plt.plot(Train_loss)"
      ],
      "execution_count": null,
      "outputs": [
        {
          "output_type": "execute_result",
          "data": {
            "text/plain": [
              "[<matplotlib.lines.Line2D at 0x7f7bd8435b38>]"
            ]
          },
          "metadata": {
            "tags": []
          },
          "execution_count": 15
        },
        {
          "output_type": "display_data",
          "data": {
            "image/png": "[encoded data removed]",
            "text/plain": [
              "<Figure size 432x288 with 1 Axes>"
            ]
          },
          "metadata": {
            "tags": [],
            "needs_background": "light"
          }
        }
      ]
    },
    {
      "cell_type": "code",
      "metadata": {
        "id": "B74ozOGtAO7g",
        "colab_type": "code",
        "colab": {
          "base_uri": "https://localhost:8080/",
          "height": 312
        },
        "outputId": "cd86055f-9b03-436e-f068-0fbacffefd75"
      },
      "source": [
        "plt.title('Test Loss')\n",
        "plt.xlabel('Epoch Number')\n",
        "plt.ylabel('Loss')\n",
        "plt.plot(Test_loss)"
      ],
      "execution_count": null,
      "outputs": [
        {
          "output_type": "execute_result",
          "data": {
            "text/plain": [
              "[<matplotlib.lines.Line2D at 0x7f7bd7bcea58>]"
            ]
          },
          "metadata": {
            "tags": []
          },
          "execution_count": 16
        },
        {
          "output_type": "display_data",
          "data": {
            "image/png": "[encoded data removed]",
            "text/plain": [
              "<Figure size 432x288 with 1 Axes>"
            ]
          },
          "metadata": {
            "tags": [],
            "needs_background": "light"
          }
        }
      ]
    },
    {
      "cell_type": "code",
      "metadata": {
        "id": "UncGhTMxAPVV",
        "colab_type": "code",
        "colab": {
          "base_uri": "https://localhost:8080/",
          "height": 312
        },
        "outputId": "e83e7d67-6272-475c-89af-ab198aea9542"
      },
      "source": [
        "plt.title('Test Accuracy')\n",
        "plt.xlabel('Epoch Number')\n",
        "plt.ylabel('Accuracy (%)')\n",
        "plt.plot(Test_acc)"
      ],
      "execution_count": null,
      "outputs": [
        {
          "output_type": "execute_result",
          "data": {
            "text/plain": [
              "[<matplotlib.lines.Line2D at 0x7f7bd7badd68>]"
            ]
          },
          "metadata": {
            "tags": []
          },
          "execution_count": 17
        },
        {
          "output_type": "display_data",
          "data": {
            "image/png": "[encoded data removed]",
            "text/plain": [
              "<Figure size 432x288 with 1 Axes>"
            ]
          },
          "metadata": {
            "tags": [],
            "needs_background": "light"
          }
        }
      ]
    },
    {
      "cell_type": "code",
      "metadata": {
        "id": "fBVNgBvYATEa",
        "colab_type": "code",
        "colab": {}
      },
      "source": [
        ""
      ],
      "execution_count": null,
      "outputs": []
    }
  ]
}