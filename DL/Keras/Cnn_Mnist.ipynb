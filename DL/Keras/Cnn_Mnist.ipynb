{
  "nbformat": 4,
  "nbformat_minor": 0,
  "metadata": {
    "colab": {
      "name": "Cnn_Mnist.ipynb",
      "provenance": []
    },
    "kernelspec": {
      "name": "python3",
      "display_name": "Python 3"
    },
    "accelerator": "GPU"
  },
  "cells": [
    {
      "cell_type": "code",
      "metadata": {
        "id": "bckm-5viPVz_",
        "colab_type": "code",
        "colab": {}
      },
      "source": [
        "import numpy as np\n",
        "from tensorflow.keras.layers import Dense, Dropout, Input\n",
        "from tensorflow.keras.layers import Conv2D, MaxPooling2D, Flatten\n",
        "from tensorflow.keras.models import Model\n",
        "from tensorflow.keras.datasets import mnist\n",
        "from tensorflow.keras.utils import to_categorical\n",
        "\n",
        "(x_train, y_train), (x_test, y_test) = mnist.load_data()\n",
        "\n",
        "\n"
      ],
      "execution_count": null,
      "outputs": []
    },
    {
      "cell_type": "code",
      "metadata": {
        "id": "2avFqK8YSeIa",
        "colab_type": "code",
        "colab": {}
      },
      "source": [
        "num_labels = len(np.unique(y_train))\n",
        "y_train = to_categorical(y_train)\n",
        "y_test = to_categorical(y_test)\n",
        "image_size = x_train.shape[1] \n",
        "x_valid, x_train = x_train[:5000] / 255.0, x_train[5000:] / 255.0 \n",
        "y_valid, y_train = y_train[:5000], y_train[5000:]\n",
        "x_train = np.reshape(x_train,[-1, image_size, image_size, 1])\n",
        "x_test = np.reshape(x_test,[-1, image_size, image_size, 1])\n",
        "x_valid = np.reshape(x_valid,[-1, image_size, image_size, 1])\n"
      ],
      "execution_count": null,
      "outputs": []
    },
    {
      "cell_type": "code",
      "metadata": {
        "id": "usc47F5-Sqak",
        "colab_type": "code",
        "colab": {}
      },
      "source": [
        "input_shape = (image_size, image_size, 1)\n",
        "batch_size = 128\n",
        "kernel_size = 3\n",
        "filters = 64\n",
        "dropout = 0.3"
      ],
      "execution_count": null,
      "outputs": []
    },
    {
      "cell_type": "code",
      "metadata": {
        "id": "9Lyg2Q-ZT16k",
        "colab_type": "code",
        "colab": {
          "base_uri": "https://localhost:8080/",
          "height": 454
        },
        "outputId": "3e5bf43e-5517-401b-992c-ac5874960dc5"
      },
      "source": [
        "inputs = Input(shape=input_shape,name='input')\n",
        "y = Conv2D(filters=filters,kernel_size=kernel_size,activation='relu')(inputs)\n",
        "y = MaxPooling2D()(y)\n",
        "y = Conv2D(filters=filters,\n",
        "           kernel_size=kernel_size,\n",
        "           activation='relu')(y)\n",
        "y = MaxPooling2D()(y)\n",
        "y = Conv2D(filters=filters,\n",
        "           kernel_size=kernel_size,\n",
        "           activation='relu')(y)\n",
        "y = Flatten()(y)\n",
        "y = Dropout(dropout)(y)\n",
        "outputs = Dense(num_labels, activation='softmax')(y)\n",
        "model = Model(inputs=inputs,outputs=outputs)\n",
        "model.summary()\n",
        "\n"
      ],
      "execution_count": null,
      "outputs": [
        {
          "output_type": "stream",
          "text": [
            "Model: \"model_3\"\n",
            "_________________________________________________________________\n",
            "Layer (type)                 Output Shape              Param #   \n",
            "=================================================================\n",
            "input (InputLayer)           [(None, 28, 28, 1)]       0         \n",
            "_________________________________________________________________\n",
            "conv2d_9 (Conv2D)            (None, 26, 26, 64)        640       \n",
            "_________________________________________________________________\n",
            "max_pooling2d_6 (MaxPooling2 (None, 13, 13, 64)        0         \n",
            "_________________________________________________________________\n",
            "conv2d_10 (Conv2D)           (None, 11, 11, 64)        36928     \n",
            "_________________________________________________________________\n",
            "max_pooling2d_7 (MaxPooling2 (None, 5, 5, 64)          0         \n",
            "_________________________________________________________________\n",
            "conv2d_11 (Conv2D)           (None, 3, 3, 64)          36928     \n",
            "_________________________________________________________________\n",
            "flatten_3 (Flatten)          (None, 576)               0         \n",
            "_________________________________________________________________\n",
            "dropout_3 (Dropout)          (None, 576)               0         \n",
            "_________________________________________________________________\n",
            "dense_3 (Dense)              (None, 10)                5770      \n",
            "=================================================================\n",
            "Total params: 80,266\n",
            "Trainable params: 80,266\n",
            "Non-trainable params: 0\n",
            "_________________________________________________________________\n"
          ],
          "name": "stdout"
        }
      ]
    },
    {
      "cell_type": "code",
      "metadata": {
        "id": "UJQ7t6SNVaVH",
        "colab_type": "code",
        "colab": {
          "base_uri": "https://localhost:8080/",
          "height": 722
        },
        "outputId": "53579b13-5783-452b-ad9d-d66fcfb147b0"
      },
      "source": [
        "model.compile(loss='categorical_crossentropy',optimizer='adam',metrics=['accuracy'])\n",
        "model.fit(x_train,y_train,validation_data=(x_valid, y_valid),epochs=20,batch_size=batch_size)\n",
        "score = model.evaluate(x_test,y_test,batch_size=batch_size,verbose=1)"
      ],
      "execution_count": null,
      "outputs": [
        {
          "output_type": "stream",
          "text": [
            "Train on 55000 samples, validate on 5000 samples\n",
            "Epoch 1/20\n",
            "55000/55000 [==============================] - 9s 162us/sample - loss: 0.2937 - acc: 0.9097 - val_loss: 0.0692 - val_acc: 0.9794\n",
            "Epoch 2/20\n",
            "55000/55000 [==============================] - 3s 47us/sample - loss: 0.0735 - acc: 0.9775 - val_loss: 0.0529 - val_acc: 0.9850\n",
            "Epoch 3/20\n",
            "55000/55000 [==============================] - 3s 47us/sample - loss: 0.0533 - acc: 0.9838 - val_loss: 0.0459 - val_acc: 0.9872\n",
            "Epoch 4/20\n",
            "55000/55000 [==============================] - 3s 47us/sample - loss: 0.0427 - acc: 0.9868 - val_loss: 0.0392 - val_acc: 0.9904\n",
            "Epoch 5/20\n",
            "55000/55000 [==============================] - 3s 48us/sample - loss: 0.0374 - acc: 0.9878 - val_loss: 0.0395 - val_acc: 0.9896\n",
            "Epoch 6/20\n",
            "55000/55000 [==============================] - 3s 47us/sample - loss: 0.0320 - acc: 0.9895 - val_loss: 0.0356 - val_acc: 0.9904\n",
            "Epoch 7/20\n",
            "55000/55000 [==============================] - 3s 47us/sample - loss: 0.0299 - acc: 0.9899 - val_loss: 0.0288 - val_acc: 0.9924\n",
            "Epoch 8/20\n",
            "55000/55000 [==============================] - 3s 48us/sample - loss: 0.0239 - acc: 0.9922 - val_loss: 0.0360 - val_acc: 0.9912\n",
            "Epoch 9/20\n",
            "55000/55000 [==============================] - 3s 47us/sample - loss: 0.0228 - acc: 0.9928 - val_loss: 0.0321 - val_acc: 0.9900\n",
            "Epoch 10/20\n",
            "55000/55000 [==============================] - 3s 46us/sample - loss: 0.0205 - acc: 0.9933 - val_loss: 0.0314 - val_acc: 0.9914\n",
            "Epoch 11/20\n",
            "55000/55000 [==============================] - 3s 49us/sample - loss: 0.0186 - acc: 0.9938 - val_loss: 0.0297 - val_acc: 0.9928\n",
            "Epoch 12/20\n",
            "55000/55000 [==============================] - 3s 49us/sample - loss: 0.0176 - acc: 0.9943 - val_loss: 0.0325 - val_acc: 0.9922\n",
            "Epoch 13/20\n",
            "55000/55000 [==============================] - 3s 47us/sample - loss: 0.0161 - acc: 0.9949 - val_loss: 0.0347 - val_acc: 0.9918\n",
            "Epoch 14/20\n",
            "55000/55000 [==============================] - 3s 48us/sample - loss: 0.0138 - acc: 0.9953 - val_loss: 0.0310 - val_acc: 0.9920\n",
            "Epoch 15/20\n",
            "55000/55000 [==============================] - 3s 48us/sample - loss: 0.0127 - acc: 0.9960 - val_loss: 0.0333 - val_acc: 0.9922\n",
            "Epoch 16/20\n",
            "55000/55000 [==============================] - 3s 47us/sample - loss: 0.0127 - acc: 0.9956 - val_loss: 0.0327 - val_acc: 0.9926\n",
            "Epoch 17/20\n",
            "55000/55000 [==============================] - 3s 47us/sample - loss: 0.0124 - acc: 0.9958 - val_loss: 0.0356 - val_acc: 0.9934\n",
            "Epoch 18/20\n",
            "55000/55000 [==============================] - 3s 48us/sample - loss: 0.0107 - acc: 0.9963 - val_loss: 0.0270 - val_acc: 0.9932\n",
            "Epoch 19/20\n",
            "55000/55000 [==============================] - 3s 47us/sample - loss: 0.0115 - acc: 0.9959 - val_loss: 0.0283 - val_acc: 0.9936\n",
            "Epoch 20/20\n",
            "55000/55000 [==============================] - 3s 48us/sample - loss: 0.0096 - acc: 0.9967 - val_loss: 0.0302 - val_acc: 0.9928\n",
            "10000/10000 [==============================] - 0s 26us/sample - loss: 5.2528 - acc: 0.9925\n"
          ],
          "name": "stdout"
        }
      ]
    },
    {
      "cell_type": "code",
      "metadata": {
        "id": "DlUuEARdWk8L",
        "colab_type": "code",
        "colab": {}
      },
      "source": [
        ""
      ],
      "execution_count": null,
      "outputs": []
    }
  ]
}